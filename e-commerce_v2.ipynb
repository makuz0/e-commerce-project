{
 "cells": [
  {
   "cell_type": "code",
   "execution_count": 659,
   "metadata": {},
   "outputs": [],
   "source": [
    "import pandas as pd\n",
    "import numpy as np\n",
    "import scipy \n",
    "import seaborn as sns\n",
    "import matplotlib.pyplot as plt\n",
    "import warnings\n",
    "warnings.filterwarnings('ignore')\n",
    "%matplotlib inline"
   ]
  },
  {
   "cell_type": "markdown",
   "metadata": {},
   "source": [
    "#####                                         Подгружаем данные"
   ]
  },
  {
   "cell_type": "code",
   "execution_count": 525,
   "metadata": {},
   "outputs": [],
   "source": [
    "olist_customers_dataset = pd.read_csv('/mnt/HC_Volume_18315164/home-jupyter/jupyter-m-kuzmin/Project_1/e-commerce/olist_customers_dataset.csv')"
   ]
  },
  {
   "cell_type": "code",
   "execution_count": 526,
   "metadata": {},
   "outputs": [],
   "source": [
    "olist_orders_dataset = pd.read_csv('/mnt/HC_Volume_18315164/home-jupyter/jupyter-m-kuzmin/Project_1/e-commerce/olist_orders_dataset.csv')"
   ]
  },
  {
   "cell_type": "code",
   "execution_count": 527,
   "metadata": {},
   "outputs": [],
   "source": [
    "olist_order_items_dataset = pd.read_csv('/mnt/HC_Volume_18315164/home-jupyter/jupyter-m-kuzmin/Project_1/e-commerce/olist_order_items_dataset.csv')"
   ]
  },
  {
   "cell_type": "markdown",
   "metadata": {},
   "source": [
    "#####                                 Объединяем все три df в один для удобства"
   ]
  },
  {
   "cell_type": "code",
   "execution_count": 528,
   "metadata": {},
   "outputs": [],
   "source": [
    "ocd_ood = pd.merge(olist_customers_dataset, olist_orders_dataset, on=('customer_id'), how='left')"
   ]
  },
  {
   "cell_type": "code",
   "execution_count": 529,
   "metadata": {},
   "outputs": [],
   "source": [
    "full_df = pd.merge(ocd_ood, olist_order_items_dataset, on=('order_id'), how='left')"
   ]
  },
  {
   "cell_type": "code",
   "execution_count": 530,
   "metadata": {},
   "outputs": [
    {
     "data": {
      "text/html": [
       "<div>\n",
       "<style scoped>\n",
       "    .dataframe tbody tr th:only-of-type {\n",
       "        vertical-align: middle;\n",
       "    }\n",
       "\n",
       "    .dataframe tbody tr th {\n",
       "        vertical-align: top;\n",
       "    }\n",
       "\n",
       "    .dataframe thead th {\n",
       "        text-align: right;\n",
       "    }\n",
       "</style>\n",
       "<table border=\"1\" class=\"dataframe\">\n",
       "  <thead>\n",
       "    <tr style=\"text-align: right;\">\n",
       "      <th></th>\n",
       "      <th>customer_id</th>\n",
       "      <th>customer_unique_id</th>\n",
       "      <th>customer_zip_code_prefix</th>\n",
       "      <th>customer_city</th>\n",
       "      <th>customer_state</th>\n",
       "      <th>order_id</th>\n",
       "      <th>order_status</th>\n",
       "      <th>order_purchase_timestamp</th>\n",
       "      <th>order_approved_at</th>\n",
       "      <th>order_delivered_carrier_date</th>\n",
       "      <th>order_delivered_customer_date</th>\n",
       "      <th>order_estimated_delivery_date</th>\n",
       "      <th>order_item_id</th>\n",
       "      <th>product_id</th>\n",
       "      <th>seller_id</th>\n",
       "      <th>shipping_limit_date</th>\n",
       "      <th>price</th>\n",
       "      <th>freight_value</th>\n",
       "    </tr>\n",
       "  </thead>\n",
       "  <tbody>\n",
       "    <tr>\n",
       "      <th>0</th>\n",
       "      <td>06b8999e2fba1a1fbc88172c00ba8bc7</td>\n",
       "      <td>861eff4711a542e4b93843c6dd7febb0</td>\n",
       "      <td>14409</td>\n",
       "      <td>franca</td>\n",
       "      <td>SP</td>\n",
       "      <td>00e7ee1b050b8499577073aeb2a297a1</td>\n",
       "      <td>delivered</td>\n",
       "      <td>2017-05-16 15:05:35</td>\n",
       "      <td>2017-05-16 15:22:12</td>\n",
       "      <td>2017-05-23 10:47:57</td>\n",
       "      <td>2017-05-25 10:35:35</td>\n",
       "      <td>2017-06-05 00:00:00</td>\n",
       "      <td>1.0</td>\n",
       "      <td>a9516a079e37a9c9c36b9b78b10169e8</td>\n",
       "      <td>7c67e1448b00f6e969d365cea6b010ab</td>\n",
       "      <td>2017-05-22 15:22:12</td>\n",
       "      <td>124.99</td>\n",
       "      <td>21.88</td>\n",
       "    </tr>\n",
       "    <tr>\n",
       "      <th>1</th>\n",
       "      <td>18955e83d337fd6b2def6b18a428ac77</td>\n",
       "      <td>290c77bc529b7ac935b93aa66c333dc3</td>\n",
       "      <td>9790</td>\n",
       "      <td>sao bernardo do campo</td>\n",
       "      <td>SP</td>\n",
       "      <td>29150127e6685892b6eab3eec79f59c7</td>\n",
       "      <td>delivered</td>\n",
       "      <td>2018-01-12 20:48:24</td>\n",
       "      <td>2018-01-12 20:58:32</td>\n",
       "      <td>2018-01-15 17:14:59</td>\n",
       "      <td>2018-01-29 12:41:19</td>\n",
       "      <td>2018-02-06 00:00:00</td>\n",
       "      <td>1.0</td>\n",
       "      <td>4aa6014eceb682077f9dc4bffebc05b0</td>\n",
       "      <td>b8bc237ba3788b23da09c0f1f3a3288c</td>\n",
       "      <td>2018-01-18 20:58:32</td>\n",
       "      <td>289.00</td>\n",
       "      <td>46.48</td>\n",
       "    </tr>\n",
       "    <tr>\n",
       "      <th>2</th>\n",
       "      <td>4e7b3e00288586ebd08712fdd0374a03</td>\n",
       "      <td>060e732b5b29e8181a18229c7b0b2b5e</td>\n",
       "      <td>1151</td>\n",
       "      <td>sao paulo</td>\n",
       "      <td>SP</td>\n",
       "      <td>b2059ed67ce144a36e2aa97d2c9e9ad2</td>\n",
       "      <td>delivered</td>\n",
       "      <td>2018-05-19 16:07:45</td>\n",
       "      <td>2018-05-20 16:19:10</td>\n",
       "      <td>2018-06-11 14:31:00</td>\n",
       "      <td>2018-06-14 17:58:51</td>\n",
       "      <td>2018-06-13 00:00:00</td>\n",
       "      <td>1.0</td>\n",
       "      <td>bd07b66896d6f1494f5b86251848ced7</td>\n",
       "      <td>7c67e1448b00f6e969d365cea6b010ab</td>\n",
       "      <td>2018-06-05 16:19:10</td>\n",
       "      <td>139.94</td>\n",
       "      <td>17.79</td>\n",
       "    </tr>\n",
       "    <tr>\n",
       "      <th>3</th>\n",
       "      <td>b2b6027bc5c5109e529d4dc6358b12c3</td>\n",
       "      <td>259dac757896d24d7702b9acbbff3f3c</td>\n",
       "      <td>8775</td>\n",
       "      <td>mogi das cruzes</td>\n",
       "      <td>SP</td>\n",
       "      <td>951670f92359f4fe4a63112aa7306eba</td>\n",
       "      <td>delivered</td>\n",
       "      <td>2018-03-13 16:06:38</td>\n",
       "      <td>2018-03-13 17:29:19</td>\n",
       "      <td>2018-03-27 23:22:42</td>\n",
       "      <td>2018-03-28 16:04:25</td>\n",
       "      <td>2018-04-10 00:00:00</td>\n",
       "      <td>1.0</td>\n",
       "      <td>a5647c44af977b148e0a3a4751a09e2e</td>\n",
       "      <td>7c67e1448b00f6e969d365cea6b010ab</td>\n",
       "      <td>2018-03-27 16:31:16</td>\n",
       "      <td>149.94</td>\n",
       "      <td>23.36</td>\n",
       "    </tr>\n",
       "    <tr>\n",
       "      <th>4</th>\n",
       "      <td>4f2d8ab171c80ec8364f7c12e35b23ad</td>\n",
       "      <td>345ecd01c38d18a9036ed96c73b8d066</td>\n",
       "      <td>13056</td>\n",
       "      <td>campinas</td>\n",
       "      <td>SP</td>\n",
       "      <td>6b7d50bd145f6fc7f33cebabd7e49d0f</td>\n",
       "      <td>delivered</td>\n",
       "      <td>2018-07-29 09:51:30</td>\n",
       "      <td>2018-07-29 10:10:09</td>\n",
       "      <td>2018-07-30 15:16:00</td>\n",
       "      <td>2018-08-09 20:55:48</td>\n",
       "      <td>2018-08-15 00:00:00</td>\n",
       "      <td>1.0</td>\n",
       "      <td>9391a573abe00141c56e38d84d7d5b3b</td>\n",
       "      <td>4a3ca9315b744ce9f8e9374361493884</td>\n",
       "      <td>2018-07-31 10:10:09</td>\n",
       "      <td>230.00</td>\n",
       "      <td>22.25</td>\n",
       "    </tr>\n",
       "    <tr>\n",
       "      <th>...</th>\n",
       "      <td>...</td>\n",
       "      <td>...</td>\n",
       "      <td>...</td>\n",
       "      <td>...</td>\n",
       "      <td>...</td>\n",
       "      <td>...</td>\n",
       "      <td>...</td>\n",
       "      <td>...</td>\n",
       "      <td>...</td>\n",
       "      <td>...</td>\n",
       "      <td>...</td>\n",
       "      <td>...</td>\n",
       "      <td>...</td>\n",
       "      <td>...</td>\n",
       "      <td>...</td>\n",
       "      <td>...</td>\n",
       "      <td>...</td>\n",
       "      <td>...</td>\n",
       "    </tr>\n",
       "    <tr>\n",
       "      <th>113420</th>\n",
       "      <td>17ddf5dd5d51696bb3d7c6291687be6f</td>\n",
       "      <td>1a29b476fee25c95fbafc67c5ac95cf8</td>\n",
       "      <td>3937</td>\n",
       "      <td>sao paulo</td>\n",
       "      <td>SP</td>\n",
       "      <td>6760e20addcf0121e9d58f2f1ff14298</td>\n",
       "      <td>delivered</td>\n",
       "      <td>2018-04-07 15:48:17</td>\n",
       "      <td>2018-04-07 16:08:45</td>\n",
       "      <td>2018-04-11 02:08:36</td>\n",
       "      <td>2018-04-13 20:06:37</td>\n",
       "      <td>2018-04-25 00:00:00</td>\n",
       "      <td>1.0</td>\n",
       "      <td>ccb4503d9d43d245d3b295d0544f988b</td>\n",
       "      <td>527801b552d0077ffd170872eb49683b</td>\n",
       "      <td>2018-04-12 16:08:45</td>\n",
       "      <td>74.90</td>\n",
       "      <td>13.88</td>\n",
       "    </tr>\n",
       "    <tr>\n",
       "      <th>113421</th>\n",
       "      <td>e7b71a9017aa05c9a7fd292d714858e8</td>\n",
       "      <td>d52a67c98be1cf6a5c84435bd38d095d</td>\n",
       "      <td>6764</td>\n",
       "      <td>taboao da serra</td>\n",
       "      <td>SP</td>\n",
       "      <td>9ec0c8947d973db4f4e8dcf1fbfa8f1b</td>\n",
       "      <td>delivered</td>\n",
       "      <td>2018-04-04 08:20:22</td>\n",
       "      <td>2018-04-04 08:35:12</td>\n",
       "      <td>2018-04-05 18:42:35</td>\n",
       "      <td>2018-04-11 18:54:45</td>\n",
       "      <td>2018-04-20 00:00:00</td>\n",
       "      <td>1.0</td>\n",
       "      <td>9ede6b0570a75a4b9de4f383329f99ee</td>\n",
       "      <td>3fd1e727ba94cfe122d165e176ce7967</td>\n",
       "      <td>2018-04-10 08:35:12</td>\n",
       "      <td>114.90</td>\n",
       "      <td>14.16</td>\n",
       "    </tr>\n",
       "    <tr>\n",
       "      <th>113422</th>\n",
       "      <td>5e28dfe12db7fb50a4b2f691faecea5e</td>\n",
       "      <td>e9f50caf99f032f0bf3c55141f019d99</td>\n",
       "      <td>60115</td>\n",
       "      <td>fortaleza</td>\n",
       "      <td>CE</td>\n",
       "      <td>fed4434add09a6f332ea398efd656a5c</td>\n",
       "      <td>delivered</td>\n",
       "      <td>2018-04-08 20:11:50</td>\n",
       "      <td>2018-04-08 20:30:03</td>\n",
       "      <td>2018-04-09 17:52:17</td>\n",
       "      <td>2018-05-09 19:03:15</td>\n",
       "      <td>2018-05-02 00:00:00</td>\n",
       "      <td>1.0</td>\n",
       "      <td>7a5d2e1e131a860ae7d18f6fffa9d689</td>\n",
       "      <td>d9e7e7778b32987280a6f2cb9a39c57d</td>\n",
       "      <td>2018-04-12 20:30:03</td>\n",
       "      <td>37.00</td>\n",
       "      <td>19.04</td>\n",
       "    </tr>\n",
       "    <tr>\n",
       "      <th>113423</th>\n",
       "      <td>56b18e2166679b8a959d72dd06da27f9</td>\n",
       "      <td>73c2643a0a458b49f58cea58833b192e</td>\n",
       "      <td>92120</td>\n",
       "      <td>canoas</td>\n",
       "      <td>RS</td>\n",
       "      <td>e31ec91cea1ecf97797787471f98a8c2</td>\n",
       "      <td>delivered</td>\n",
       "      <td>2017-11-03 21:08:33</td>\n",
       "      <td>2017-11-03 21:31:20</td>\n",
       "      <td>2017-11-06 18:24:41</td>\n",
       "      <td>2017-11-16 19:58:39</td>\n",
       "      <td>2017-12-05 00:00:00</td>\n",
       "      <td>1.0</td>\n",
       "      <td>f819f0c84a64f02d3a5606ca95edd272</td>\n",
       "      <td>4869f7a5dfa277a7dca6462dcf3b52b2</td>\n",
       "      <td>2017-11-09 21:15:51</td>\n",
       "      <td>689.00</td>\n",
       "      <td>22.07</td>\n",
       "    </tr>\n",
       "    <tr>\n",
       "      <th>113424</th>\n",
       "      <td>274fa6071e5e17fe303b9748641082c8</td>\n",
       "      <td>84732c5050c01db9b23e19ba39899398</td>\n",
       "      <td>6703</td>\n",
       "      <td>cotia</td>\n",
       "      <td>SP</td>\n",
       "      <td>28db69209a75e59f20ccbb5c36a20b90</td>\n",
       "      <td>delivered</td>\n",
       "      <td>2017-12-19 14:27:23</td>\n",
       "      <td>2017-12-19 18:50:39</td>\n",
       "      <td>2017-12-21 19:17:21</td>\n",
       "      <td>2017-12-26 18:42:36</td>\n",
       "      <td>2018-01-08 00:00:00</td>\n",
       "      <td>1.0</td>\n",
       "      <td>017692475c1c954ff597feda05131d73</td>\n",
       "      <td>3c7c4a49ec3c6550809089c6a2ca9370</td>\n",
       "      <td>2017-12-26 18:50:39</td>\n",
       "      <td>13.99</td>\n",
       "      <td>7.78</td>\n",
       "    </tr>\n",
       "  </tbody>\n",
       "</table>\n",
       "<p>113425 rows × 18 columns</p>\n",
       "</div>"
      ],
      "text/plain": [
       "                             customer_id                customer_unique_id  \\\n",
       "0       06b8999e2fba1a1fbc88172c00ba8bc7  861eff4711a542e4b93843c6dd7febb0   \n",
       "1       18955e83d337fd6b2def6b18a428ac77  290c77bc529b7ac935b93aa66c333dc3   \n",
       "2       4e7b3e00288586ebd08712fdd0374a03  060e732b5b29e8181a18229c7b0b2b5e   \n",
       "3       b2b6027bc5c5109e529d4dc6358b12c3  259dac757896d24d7702b9acbbff3f3c   \n",
       "4       4f2d8ab171c80ec8364f7c12e35b23ad  345ecd01c38d18a9036ed96c73b8d066   \n",
       "...                                  ...                               ...   \n",
       "113420  17ddf5dd5d51696bb3d7c6291687be6f  1a29b476fee25c95fbafc67c5ac95cf8   \n",
       "113421  e7b71a9017aa05c9a7fd292d714858e8  d52a67c98be1cf6a5c84435bd38d095d   \n",
       "113422  5e28dfe12db7fb50a4b2f691faecea5e  e9f50caf99f032f0bf3c55141f019d99   \n",
       "113423  56b18e2166679b8a959d72dd06da27f9  73c2643a0a458b49f58cea58833b192e   \n",
       "113424  274fa6071e5e17fe303b9748641082c8  84732c5050c01db9b23e19ba39899398   \n",
       "\n",
       "        customer_zip_code_prefix          customer_city customer_state  \\\n",
       "0                          14409                 franca             SP   \n",
       "1                           9790  sao bernardo do campo             SP   \n",
       "2                           1151              sao paulo             SP   \n",
       "3                           8775        mogi das cruzes             SP   \n",
       "4                          13056               campinas             SP   \n",
       "...                          ...                    ...            ...   \n",
       "113420                      3937              sao paulo             SP   \n",
       "113421                      6764        taboao da serra             SP   \n",
       "113422                     60115              fortaleza             CE   \n",
       "113423                     92120                 canoas             RS   \n",
       "113424                      6703                  cotia             SP   \n",
       "\n",
       "                                order_id order_status  \\\n",
       "0       00e7ee1b050b8499577073aeb2a297a1    delivered   \n",
       "1       29150127e6685892b6eab3eec79f59c7    delivered   \n",
       "2       b2059ed67ce144a36e2aa97d2c9e9ad2    delivered   \n",
       "3       951670f92359f4fe4a63112aa7306eba    delivered   \n",
       "4       6b7d50bd145f6fc7f33cebabd7e49d0f    delivered   \n",
       "...                                  ...          ...   \n",
       "113420  6760e20addcf0121e9d58f2f1ff14298    delivered   \n",
       "113421  9ec0c8947d973db4f4e8dcf1fbfa8f1b    delivered   \n",
       "113422  fed4434add09a6f332ea398efd656a5c    delivered   \n",
       "113423  e31ec91cea1ecf97797787471f98a8c2    delivered   \n",
       "113424  28db69209a75e59f20ccbb5c36a20b90    delivered   \n",
       "\n",
       "       order_purchase_timestamp    order_approved_at  \\\n",
       "0           2017-05-16 15:05:35  2017-05-16 15:22:12   \n",
       "1           2018-01-12 20:48:24  2018-01-12 20:58:32   \n",
       "2           2018-05-19 16:07:45  2018-05-20 16:19:10   \n",
       "3           2018-03-13 16:06:38  2018-03-13 17:29:19   \n",
       "4           2018-07-29 09:51:30  2018-07-29 10:10:09   \n",
       "...                         ...                  ...   \n",
       "113420      2018-04-07 15:48:17  2018-04-07 16:08:45   \n",
       "113421      2018-04-04 08:20:22  2018-04-04 08:35:12   \n",
       "113422      2018-04-08 20:11:50  2018-04-08 20:30:03   \n",
       "113423      2017-11-03 21:08:33  2017-11-03 21:31:20   \n",
       "113424      2017-12-19 14:27:23  2017-12-19 18:50:39   \n",
       "\n",
       "       order_delivered_carrier_date order_delivered_customer_date  \\\n",
       "0               2017-05-23 10:47:57           2017-05-25 10:35:35   \n",
       "1               2018-01-15 17:14:59           2018-01-29 12:41:19   \n",
       "2               2018-06-11 14:31:00           2018-06-14 17:58:51   \n",
       "3               2018-03-27 23:22:42           2018-03-28 16:04:25   \n",
       "4               2018-07-30 15:16:00           2018-08-09 20:55:48   \n",
       "...                             ...                           ...   \n",
       "113420          2018-04-11 02:08:36           2018-04-13 20:06:37   \n",
       "113421          2018-04-05 18:42:35           2018-04-11 18:54:45   \n",
       "113422          2018-04-09 17:52:17           2018-05-09 19:03:15   \n",
       "113423          2017-11-06 18:24:41           2017-11-16 19:58:39   \n",
       "113424          2017-12-21 19:17:21           2017-12-26 18:42:36   \n",
       "\n",
       "       order_estimated_delivery_date  order_item_id  \\\n",
       "0                2017-06-05 00:00:00            1.0   \n",
       "1                2018-02-06 00:00:00            1.0   \n",
       "2                2018-06-13 00:00:00            1.0   \n",
       "3                2018-04-10 00:00:00            1.0   \n",
       "4                2018-08-15 00:00:00            1.0   \n",
       "...                              ...            ...   \n",
       "113420           2018-04-25 00:00:00            1.0   \n",
       "113421           2018-04-20 00:00:00            1.0   \n",
       "113422           2018-05-02 00:00:00            1.0   \n",
       "113423           2017-12-05 00:00:00            1.0   \n",
       "113424           2018-01-08 00:00:00            1.0   \n",
       "\n",
       "                              product_id                         seller_id  \\\n",
       "0       a9516a079e37a9c9c36b9b78b10169e8  7c67e1448b00f6e969d365cea6b010ab   \n",
       "1       4aa6014eceb682077f9dc4bffebc05b0  b8bc237ba3788b23da09c0f1f3a3288c   \n",
       "2       bd07b66896d6f1494f5b86251848ced7  7c67e1448b00f6e969d365cea6b010ab   \n",
       "3       a5647c44af977b148e0a3a4751a09e2e  7c67e1448b00f6e969d365cea6b010ab   \n",
       "4       9391a573abe00141c56e38d84d7d5b3b  4a3ca9315b744ce9f8e9374361493884   \n",
       "...                                  ...                               ...   \n",
       "113420  ccb4503d9d43d245d3b295d0544f988b  527801b552d0077ffd170872eb49683b   \n",
       "113421  9ede6b0570a75a4b9de4f383329f99ee  3fd1e727ba94cfe122d165e176ce7967   \n",
       "113422  7a5d2e1e131a860ae7d18f6fffa9d689  d9e7e7778b32987280a6f2cb9a39c57d   \n",
       "113423  f819f0c84a64f02d3a5606ca95edd272  4869f7a5dfa277a7dca6462dcf3b52b2   \n",
       "113424  017692475c1c954ff597feda05131d73  3c7c4a49ec3c6550809089c6a2ca9370   \n",
       "\n",
       "        shipping_limit_date   price  freight_value  \n",
       "0       2017-05-22 15:22:12  124.99          21.88  \n",
       "1       2018-01-18 20:58:32  289.00          46.48  \n",
       "2       2018-06-05 16:19:10  139.94          17.79  \n",
       "3       2018-03-27 16:31:16  149.94          23.36  \n",
       "4       2018-07-31 10:10:09  230.00          22.25  \n",
       "...                     ...     ...            ...  \n",
       "113420  2018-04-12 16:08:45   74.90          13.88  \n",
       "113421  2018-04-10 08:35:12  114.90          14.16  \n",
       "113422  2018-04-12 20:30:03   37.00          19.04  \n",
       "113423  2017-11-09 21:15:51  689.00          22.07  \n",
       "113424  2017-12-26 18:50:39   13.99           7.78  \n",
       "\n",
       "[113425 rows x 18 columns]"
      ]
     },
     "execution_count": 530,
     "metadata": {},
     "output_type": "execute_result"
    }
   ],
   "source": [
    "full_df"
   ]
  },
  {
   "cell_type": "markdown",
   "metadata": {},
   "source": [
    "##### Создаю df, который содержит признак покупки full_df_purchase"
   ]
  },
  {
   "cell_type": "code",
   "execution_count": 531,
   "metadata": {},
   "outputs": [],
   "source": [
    "full_df_purchase = full_df[full_df['order_status'] \\\n",
    "                           .isin(['shipped', 'delivered', 'processing', 'approved'])]"
   ]
  },
  {
   "cell_type": "code",
   "execution_count": 532,
   "metadata": {},
   "outputs": [],
   "source": [
    "full_df_purchase = full_df_purchase[full_df_purchase['order_approved_at'].notna()]"
   ]
  },
  {
   "cell_type": "code",
   "execution_count": 533,
   "metadata": {},
   "outputs": [],
   "source": [
    "full_df_purchase.order_purchase_timestamp = full_df_purchase.order_purchase_timestamp.apply(pd.to_datetime)"
   ]
  },
  {
   "cell_type": "markdown",
   "metadata": {},
   "source": [
    "#####                               0. Исследование и подготовка данных\n",
    "#####                                     !olist_orders_dataset \n",
    "#####               подготовка для дальнейшего мерджа с olist_customers_datase для вопроса №1"
   ]
  },
  {
   "cell_type": "markdown",
   "metadata": {},
   "source": [
    "#####                                оставляю только подходящие статусы заказов\n",
    "#####                             ('shipped', 'delivered', 'processing', 'approved')"
   ]
  },
  {
   "cell_type": "code",
   "execution_count": 534,
   "metadata": {},
   "outputs": [],
   "source": [
    "olist_orders_dataset_purchase = olist_orders_dataset[olist_orders_dataset['order_status'] \\\n",
    "                    .isin(['shipped', 'delivered', 'processing', 'approved'])]"
   ]
  },
  {
   "cell_type": "markdown",
   "metadata": {},
   "source": [
    "#####                   удаляю строки с NaN из столбца order_approved_at (так как факта оплаты не было)"
   ]
  },
  {
   "cell_type": "code",
   "execution_count": 535,
   "metadata": {},
   "outputs": [],
   "source": [
    "olist_orders_dataset_purchase = \\\n",
    "                olist_orders_dataset_purchase[olist_orders_dataset_purchase['order_approved_at'].notna()]"
   ]
  },
  {
   "cell_type": "markdown",
   "metadata": {},
   "source": [
    "#####                                        меняю тип данных для дат"
   ]
  },
  {
   "cell_type": "code",
   "execution_count": 536,
   "metadata": {},
   "outputs": [],
   "source": [
    "cols = olist_orders_dataset_purchase.columns[3:8]\n",
    "olist_orders_dataset_purchase[cols] = olist_orders_dataset_purchase[cols].apply(pd.to_datetime)"
   ]
  },
  {
   "cell_type": "markdown",
   "metadata": {},
   "source": [
    "#####                 Проверяю логику присвоения дат по колонкам между 'order' (должно быть > 0)\n",
    "#####                           выявлены логические несоответствия дат между:\n",
    "#####      - передачей заказа в логистическую службу и датой подтверждения оплаты заказа (1359 несоответствий)\n",
    "#####      - доставкой заказа и передачей заказа в логистическую службу (23 несоответствия)\n",
    "#####      - обещанной датой доставки и фактической датой доставки (7826).\n",
    "#####           Несоответвий между датой оплаты заказа и датой создания заказа нет.\n",
    "#####  Принимая во внимание, что статусы заказов ('order_status') не являются отмененными, недоступными, считаю, что в рабочей системе предприятия могли быть сбои/ошибки или просто человеческий фактор, в связи с чем присваивалась некорректная дата. Принимаю решение оставить в DF данные строки."
   ]
  },
  {
   "cell_type": "code",
   "execution_count": 537,
   "metadata": {},
   "outputs": [],
   "source": [
    "check = olist_orders_dataset_purchase"
   ]
  },
  {
   "cell_type": "code",
   "execution_count": 538,
   "metadata": {},
   "outputs": [
    {
     "data": {
      "text/plain": [
       "0"
      ]
     },
     "execution_count": 538,
     "metadata": {},
     "output_type": "execute_result"
    }
   ],
   "source": [
    "check['approved_created'] = \\\n",
    "(olist_orders_dataset_purchase['order_approved_at'] - \\\n",
    "                                    olist_orders_dataset_purchase['order_purchase_timestamp']).dt.days\n",
    "check['approved_created'].unique()\n",
    "len(check[check['approved_created'] < 0])"
   ]
  },
  {
   "cell_type": "code",
   "execution_count": 539,
   "metadata": {},
   "outputs": [
    {
     "data": {
      "text/plain": [
       "1359"
      ]
     },
     "execution_count": 539,
     "metadata": {},
     "output_type": "execute_result"
    }
   ],
   "source": [
    "check['carrier_approved'] = \\\n",
    "(olist_orders_dataset_purchase['order_delivered_carrier_date'] - \\\n",
    "                                            olist_orders_dataset_purchase['order_approved_at']).dt.days\n",
    "check['carrier_approved'].unique()\n",
    "len(check[check['carrier_approved'] < 0])"
   ]
  },
  {
   "cell_type": "code",
   "execution_count": 540,
   "metadata": {},
   "outputs": [
    {
     "data": {
      "text/plain": [
       "23"
      ]
     },
     "execution_count": 540,
     "metadata": {},
     "output_type": "execute_result"
    }
   ],
   "source": [
    "check['customer_carrier'] = \\\n",
    "(olist_orders_dataset_purchase['order_delivered_customer_date'] - \\\n",
    "                                 olist_orders_dataset_purchase['order_delivered_carrier_date']).dt.days\n",
    "check['customer_carrier'].unique()\n",
    "len(check[check['customer_carrier'] < 0])"
   ]
  },
  {
   "cell_type": "code",
   "execution_count": 541,
   "metadata": {},
   "outputs": [
    {
     "data": {
      "text/plain": [
       "7826"
      ]
     },
     "execution_count": 541,
     "metadata": {},
     "output_type": "execute_result"
    }
   ],
   "source": [
    "check['estimated_delivered'] = \\\n",
    "(olist_orders_dataset_purchase['order_estimated_delivery_date'] - \\\n",
    "                                olist_orders_dataset_purchase['order_delivered_customer_date']).dt.days\n",
    "check['estimated_delivered'].unique()\n",
    "len(check[check['estimated_delivered'] < 0])"
   ]
  },
  {
   "cell_type": "markdown",
   "metadata": {},
   "source": [
    "#####                   удаляю столбцы, которые использовал для нахождения разницы между 'order'"
   ]
  },
  {
   "cell_type": "code",
   "execution_count": 542,
   "metadata": {},
   "outputs": [],
   "source": [
    "olist_orders_dataset_purchase = \\\n",
    "    olist_orders_dataset_purchase.drop(olist_orders_dataset_purchase.columns[[8, 9, 10, 11]], axis=1)"
   ]
  },
  {
   "cell_type": "markdown",
   "metadata": {},
   "source": [
    "#####  удаляю столбцы из таблицы olist_orders_dataset_purchase, так как пока они не нужны и создаю новый DF"
   ]
  },
  {
   "cell_type": "code",
   "execution_count": 543,
   "metadata": {},
   "outputs": [],
   "source": [
    "oodp_nodata = \\\n",
    "    olist_orders_dataset_purchase.drop(olist_orders_dataset_purchase.columns[[3, 4, 5, 6, 7]], axis=1)"
   ]
  },
  {
   "cell_type": "code",
   "execution_count": 544,
   "metadata": {},
   "outputs": [
    {
     "data": {
      "text/html": [
       "<div>\n",
       "<style scoped>\n",
       "    .dataframe tbody tr th:only-of-type {\n",
       "        vertical-align: middle;\n",
       "    }\n",
       "\n",
       "    .dataframe tbody tr th {\n",
       "        vertical-align: top;\n",
       "    }\n",
       "\n",
       "    .dataframe thead th {\n",
       "        text-align: right;\n",
       "    }\n",
       "</style>\n",
       "<table border=\"1\" class=\"dataframe\">\n",
       "  <thead>\n",
       "    <tr style=\"text-align: right;\">\n",
       "      <th></th>\n",
       "      <th>order_id</th>\n",
       "      <th>customer_id</th>\n",
       "      <th>order_status</th>\n",
       "    </tr>\n",
       "  </thead>\n",
       "  <tbody>\n",
       "    <tr>\n",
       "      <th>0</th>\n",
       "      <td>e481f51cbdc54678b7cc49136f2d6af7</td>\n",
       "      <td>9ef432eb6251297304e76186b10a928d</td>\n",
       "      <td>delivered</td>\n",
       "    </tr>\n",
       "    <tr>\n",
       "      <th>1</th>\n",
       "      <td>53cdb2fc8bc7dce0b6741e2150273451</td>\n",
       "      <td>b0830fb4747a6c6d20dea0b8c802d7ef</td>\n",
       "      <td>delivered</td>\n",
       "    </tr>\n",
       "    <tr>\n",
       "      <th>2</th>\n",
       "      <td>47770eb9100c2d0c44946d9cf07ec65d</td>\n",
       "      <td>41ce2a54c0b03bf3443c3d931a367089</td>\n",
       "      <td>delivered</td>\n",
       "    </tr>\n",
       "    <tr>\n",
       "      <th>3</th>\n",
       "      <td>949d5b44dbf5de918fe9c16f97b45f8a</td>\n",
       "      <td>f88197465ea7920adcdbec7375364d82</td>\n",
       "      <td>delivered</td>\n",
       "    </tr>\n",
       "    <tr>\n",
       "      <th>4</th>\n",
       "      <td>ad21c59c0840e6cb83a9ceb5573f8159</td>\n",
       "      <td>8ab97904e6daea8866dbdbc4fb7aad2c</td>\n",
       "      <td>delivered</td>\n",
       "    </tr>\n",
       "    <tr>\n",
       "      <th>...</th>\n",
       "      <td>...</td>\n",
       "      <td>...</td>\n",
       "      <td>...</td>\n",
       "    </tr>\n",
       "    <tr>\n",
       "      <th>99436</th>\n",
       "      <td>9c5dedf39a927c1b2549525ed64a053c</td>\n",
       "      <td>39bd1228ee8140590ac3aca26f2dfe00</td>\n",
       "      <td>delivered</td>\n",
       "    </tr>\n",
       "    <tr>\n",
       "      <th>99437</th>\n",
       "      <td>63943bddc261676b46f01ca7ac2f7bd8</td>\n",
       "      <td>1fca14ff2861355f6e5f14306ff977a7</td>\n",
       "      <td>delivered</td>\n",
       "    </tr>\n",
       "    <tr>\n",
       "      <th>99438</th>\n",
       "      <td>83c1379a015df1e13d02aae0204711ab</td>\n",
       "      <td>1aa71eb042121263aafbe80c1b562c9c</td>\n",
       "      <td>delivered</td>\n",
       "    </tr>\n",
       "    <tr>\n",
       "      <th>99439</th>\n",
       "      <td>11c177c8e97725db2631073c19f07b62</td>\n",
       "      <td>b331b74b18dc79bcdf6532d51e1637c1</td>\n",
       "      <td>delivered</td>\n",
       "    </tr>\n",
       "    <tr>\n",
       "      <th>99440</th>\n",
       "      <td>66dea50a8b16d9b4dee7af250b4be1a5</td>\n",
       "      <td>edb027a75a1449115f6b43211ae02a24</td>\n",
       "      <td>delivered</td>\n",
       "    </tr>\n",
       "  </tbody>\n",
       "</table>\n",
       "<p>97874 rows × 3 columns</p>\n",
       "</div>"
      ],
      "text/plain": [
       "                               order_id                       customer_id  \\\n",
       "0      e481f51cbdc54678b7cc49136f2d6af7  9ef432eb6251297304e76186b10a928d   \n",
       "1      53cdb2fc8bc7dce0b6741e2150273451  b0830fb4747a6c6d20dea0b8c802d7ef   \n",
       "2      47770eb9100c2d0c44946d9cf07ec65d  41ce2a54c0b03bf3443c3d931a367089   \n",
       "3      949d5b44dbf5de918fe9c16f97b45f8a  f88197465ea7920adcdbec7375364d82   \n",
       "4      ad21c59c0840e6cb83a9ceb5573f8159  8ab97904e6daea8866dbdbc4fb7aad2c   \n",
       "...                                 ...                               ...   \n",
       "99436  9c5dedf39a927c1b2549525ed64a053c  39bd1228ee8140590ac3aca26f2dfe00   \n",
       "99437  63943bddc261676b46f01ca7ac2f7bd8  1fca14ff2861355f6e5f14306ff977a7   \n",
       "99438  83c1379a015df1e13d02aae0204711ab  1aa71eb042121263aafbe80c1b562c9c   \n",
       "99439  11c177c8e97725db2631073c19f07b62  b331b74b18dc79bcdf6532d51e1637c1   \n",
       "99440  66dea50a8b16d9b4dee7af250b4be1a5  edb027a75a1449115f6b43211ae02a24   \n",
       "\n",
       "      order_status  \n",
       "0        delivered  \n",
       "1        delivered  \n",
       "2        delivered  \n",
       "3        delivered  \n",
       "4        delivered  \n",
       "...            ...  \n",
       "99436    delivered  \n",
       "99437    delivered  \n",
       "99438    delivered  \n",
       "99439    delivered  \n",
       "99440    delivered  \n",
       "\n",
       "[97874 rows x 3 columns]"
      ]
     },
     "execution_count": 544,
     "metadata": {},
     "output_type": "execute_result"
    }
   ],
   "source": [
    "oodp_nodata"
   ]
  },
  {
   "cell_type": "markdown",
   "metadata": {},
   "source": [
    "#####             1. Сколько у нас пользователей, которые совершили покупку только один раз?"
   ]
  },
  {
   "cell_type": "markdown",
   "metadata": {},
   "source": [
    "#####   объединяю olist_customers_dataset И oodp_nodata для нахождения customer_unique_id через customer_id "
   ]
  },
  {
   "cell_type": "code",
   "execution_count": 545,
   "metadata": {},
   "outputs": [],
   "source": [
    "oodp_nodata_ocd = pd.merge(olist_customers_dataset, oodp_nodata, on=('customer_id'), how='left')"
   ]
  },
  {
   "cell_type": "code",
   "execution_count": 546,
   "metadata": {},
   "outputs": [
    {
     "data": {
      "text/html": [
       "<div>\n",
       "<style scoped>\n",
       "    .dataframe tbody tr th:only-of-type {\n",
       "        vertical-align: middle;\n",
       "    }\n",
       "\n",
       "    .dataframe tbody tr th {\n",
       "        vertical-align: top;\n",
       "    }\n",
       "\n",
       "    .dataframe thead th {\n",
       "        text-align: right;\n",
       "    }\n",
       "</style>\n",
       "<table border=\"1\" class=\"dataframe\">\n",
       "  <thead>\n",
       "    <tr style=\"text-align: right;\">\n",
       "      <th></th>\n",
       "      <th>customer_id</th>\n",
       "      <th>customer_unique_id</th>\n",
       "      <th>customer_zip_code_prefix</th>\n",
       "      <th>customer_city</th>\n",
       "      <th>customer_state</th>\n",
       "      <th>order_id</th>\n",
       "      <th>order_status</th>\n",
       "    </tr>\n",
       "  </thead>\n",
       "  <tbody>\n",
       "    <tr>\n",
       "      <th>0</th>\n",
       "      <td>06b8999e2fba1a1fbc88172c00ba8bc7</td>\n",
       "      <td>861eff4711a542e4b93843c6dd7febb0</td>\n",
       "      <td>14409</td>\n",
       "      <td>franca</td>\n",
       "      <td>SP</td>\n",
       "      <td>00e7ee1b050b8499577073aeb2a297a1</td>\n",
       "      <td>delivered</td>\n",
       "    </tr>\n",
       "    <tr>\n",
       "      <th>1</th>\n",
       "      <td>18955e83d337fd6b2def6b18a428ac77</td>\n",
       "      <td>290c77bc529b7ac935b93aa66c333dc3</td>\n",
       "      <td>9790</td>\n",
       "      <td>sao bernardo do campo</td>\n",
       "      <td>SP</td>\n",
       "      <td>29150127e6685892b6eab3eec79f59c7</td>\n",
       "      <td>delivered</td>\n",
       "    </tr>\n",
       "    <tr>\n",
       "      <th>2</th>\n",
       "      <td>4e7b3e00288586ebd08712fdd0374a03</td>\n",
       "      <td>060e732b5b29e8181a18229c7b0b2b5e</td>\n",
       "      <td>1151</td>\n",
       "      <td>sao paulo</td>\n",
       "      <td>SP</td>\n",
       "      <td>b2059ed67ce144a36e2aa97d2c9e9ad2</td>\n",
       "      <td>delivered</td>\n",
       "    </tr>\n",
       "    <tr>\n",
       "      <th>3</th>\n",
       "      <td>b2b6027bc5c5109e529d4dc6358b12c3</td>\n",
       "      <td>259dac757896d24d7702b9acbbff3f3c</td>\n",
       "      <td>8775</td>\n",
       "      <td>mogi das cruzes</td>\n",
       "      <td>SP</td>\n",
       "      <td>951670f92359f4fe4a63112aa7306eba</td>\n",
       "      <td>delivered</td>\n",
       "    </tr>\n",
       "    <tr>\n",
       "      <th>4</th>\n",
       "      <td>4f2d8ab171c80ec8364f7c12e35b23ad</td>\n",
       "      <td>345ecd01c38d18a9036ed96c73b8d066</td>\n",
       "      <td>13056</td>\n",
       "      <td>campinas</td>\n",
       "      <td>SP</td>\n",
       "      <td>6b7d50bd145f6fc7f33cebabd7e49d0f</td>\n",
       "      <td>delivered</td>\n",
       "    </tr>\n",
       "    <tr>\n",
       "      <th>...</th>\n",
       "      <td>...</td>\n",
       "      <td>...</td>\n",
       "      <td>...</td>\n",
       "      <td>...</td>\n",
       "      <td>...</td>\n",
       "      <td>...</td>\n",
       "      <td>...</td>\n",
       "    </tr>\n",
       "    <tr>\n",
       "      <th>99436</th>\n",
       "      <td>17ddf5dd5d51696bb3d7c6291687be6f</td>\n",
       "      <td>1a29b476fee25c95fbafc67c5ac95cf8</td>\n",
       "      <td>3937</td>\n",
       "      <td>sao paulo</td>\n",
       "      <td>SP</td>\n",
       "      <td>6760e20addcf0121e9d58f2f1ff14298</td>\n",
       "      <td>delivered</td>\n",
       "    </tr>\n",
       "    <tr>\n",
       "      <th>99437</th>\n",
       "      <td>e7b71a9017aa05c9a7fd292d714858e8</td>\n",
       "      <td>d52a67c98be1cf6a5c84435bd38d095d</td>\n",
       "      <td>6764</td>\n",
       "      <td>taboao da serra</td>\n",
       "      <td>SP</td>\n",
       "      <td>9ec0c8947d973db4f4e8dcf1fbfa8f1b</td>\n",
       "      <td>delivered</td>\n",
       "    </tr>\n",
       "    <tr>\n",
       "      <th>99438</th>\n",
       "      <td>5e28dfe12db7fb50a4b2f691faecea5e</td>\n",
       "      <td>e9f50caf99f032f0bf3c55141f019d99</td>\n",
       "      <td>60115</td>\n",
       "      <td>fortaleza</td>\n",
       "      <td>CE</td>\n",
       "      <td>fed4434add09a6f332ea398efd656a5c</td>\n",
       "      <td>delivered</td>\n",
       "    </tr>\n",
       "    <tr>\n",
       "      <th>99439</th>\n",
       "      <td>56b18e2166679b8a959d72dd06da27f9</td>\n",
       "      <td>73c2643a0a458b49f58cea58833b192e</td>\n",
       "      <td>92120</td>\n",
       "      <td>canoas</td>\n",
       "      <td>RS</td>\n",
       "      <td>e31ec91cea1ecf97797787471f98a8c2</td>\n",
       "      <td>delivered</td>\n",
       "    </tr>\n",
       "    <tr>\n",
       "      <th>99440</th>\n",
       "      <td>274fa6071e5e17fe303b9748641082c8</td>\n",
       "      <td>84732c5050c01db9b23e19ba39899398</td>\n",
       "      <td>6703</td>\n",
       "      <td>cotia</td>\n",
       "      <td>SP</td>\n",
       "      <td>28db69209a75e59f20ccbb5c36a20b90</td>\n",
       "      <td>delivered</td>\n",
       "    </tr>\n",
       "  </tbody>\n",
       "</table>\n",
       "<p>99441 rows × 7 columns</p>\n",
       "</div>"
      ],
      "text/plain": [
       "                            customer_id                customer_unique_id  \\\n",
       "0      06b8999e2fba1a1fbc88172c00ba8bc7  861eff4711a542e4b93843c6dd7febb0   \n",
       "1      18955e83d337fd6b2def6b18a428ac77  290c77bc529b7ac935b93aa66c333dc3   \n",
       "2      4e7b3e00288586ebd08712fdd0374a03  060e732b5b29e8181a18229c7b0b2b5e   \n",
       "3      b2b6027bc5c5109e529d4dc6358b12c3  259dac757896d24d7702b9acbbff3f3c   \n",
       "4      4f2d8ab171c80ec8364f7c12e35b23ad  345ecd01c38d18a9036ed96c73b8d066   \n",
       "...                                 ...                               ...   \n",
       "99436  17ddf5dd5d51696bb3d7c6291687be6f  1a29b476fee25c95fbafc67c5ac95cf8   \n",
       "99437  e7b71a9017aa05c9a7fd292d714858e8  d52a67c98be1cf6a5c84435bd38d095d   \n",
       "99438  5e28dfe12db7fb50a4b2f691faecea5e  e9f50caf99f032f0bf3c55141f019d99   \n",
       "99439  56b18e2166679b8a959d72dd06da27f9  73c2643a0a458b49f58cea58833b192e   \n",
       "99440  274fa6071e5e17fe303b9748641082c8  84732c5050c01db9b23e19ba39899398   \n",
       "\n",
       "       customer_zip_code_prefix          customer_city customer_state  \\\n",
       "0                         14409                 franca             SP   \n",
       "1                          9790  sao bernardo do campo             SP   \n",
       "2                          1151              sao paulo             SP   \n",
       "3                          8775        mogi das cruzes             SP   \n",
       "4                         13056               campinas             SP   \n",
       "...                         ...                    ...            ...   \n",
       "99436                      3937              sao paulo             SP   \n",
       "99437                      6764        taboao da serra             SP   \n",
       "99438                     60115              fortaleza             CE   \n",
       "99439                     92120                 canoas             RS   \n",
       "99440                      6703                  cotia             SP   \n",
       "\n",
       "                               order_id order_status  \n",
       "0      00e7ee1b050b8499577073aeb2a297a1    delivered  \n",
       "1      29150127e6685892b6eab3eec79f59c7    delivered  \n",
       "2      b2059ed67ce144a36e2aa97d2c9e9ad2    delivered  \n",
       "3      951670f92359f4fe4a63112aa7306eba    delivered  \n",
       "4      6b7d50bd145f6fc7f33cebabd7e49d0f    delivered  \n",
       "...                                 ...          ...  \n",
       "99436  6760e20addcf0121e9d58f2f1ff14298    delivered  \n",
       "99437  9ec0c8947d973db4f4e8dcf1fbfa8f1b    delivered  \n",
       "99438  fed4434add09a6f332ea398efd656a5c    delivered  \n",
       "99439  e31ec91cea1ecf97797787471f98a8c2    delivered  \n",
       "99440  28db69209a75e59f20ccbb5c36a20b90    delivered  \n",
       "\n",
       "[99441 rows x 7 columns]"
      ]
     },
     "execution_count": 546,
     "metadata": {},
     "output_type": "execute_result"
    }
   ],
   "source": [
    "oodp_nodata_ocd"
   ]
  },
  {
   "cell_type": "markdown",
   "metadata": {},
   "source": [
    "##### удаляю строки с NaN(1567 строк), так как к ним нет индентификатора заказа(номера чека),  а значит нет покупок."
   ]
  },
  {
   "cell_type": "code",
   "execution_count": 547,
   "metadata": {},
   "outputs": [],
   "source": [
    "oodp_nodata_ocd = oodp_nodata_ocd[oodp_nodata_ocd['order_id'].notna()]"
   ]
  },
  {
   "cell_type": "markdown",
   "metadata": {},
   "source": [
    "#####                               всего уникальных customer_unique_id = 94 675"
   ]
  },
  {
   "cell_type": "code",
   "execution_count": 548,
   "metadata": {},
   "outputs": [
    {
     "data": {
      "text/plain": [
       "94675"
      ]
     },
     "execution_count": 548,
     "metadata": {},
     "output_type": "execute_result"
    }
   ],
   "source": [
    "oodp_nodata_ocd['customer_unique_id'].nunique()"
   ]
  },
  {
   "cell_type": "markdown",
   "metadata": {},
   "source": [
    "##### Решение к вопросу №1"
   ]
  },
  {
   "cell_type": "code",
   "execution_count": 549,
   "metadata": {},
   "outputs": [],
   "source": [
    "one_order_unique = oodp_nodata_ocd[['customer_id', 'customer_unique_id']]"
   ]
  },
  {
   "cell_type": "code",
   "execution_count": 550,
   "metadata": {},
   "outputs": [],
   "source": [
    "one_order_unique = one_order_unique.groupby('customer_unique_id').agg({'customer_id' : 'count'})\\\n",
    "                .sort_values('customer_id').reset_index()"
   ]
  },
  {
   "cell_type": "code",
   "execution_count": 551,
   "metadata": {},
   "outputs": [
    {
     "data": {
      "text/html": [
       "<div>\n",
       "<style scoped>\n",
       "    .dataframe tbody tr th:only-of-type {\n",
       "        vertical-align: middle;\n",
       "    }\n",
       "\n",
       "    .dataframe tbody tr th {\n",
       "        vertical-align: top;\n",
       "    }\n",
       "\n",
       "    .dataframe thead th {\n",
       "        text-align: right;\n",
       "    }\n",
       "</style>\n",
       "<table border=\"1\" class=\"dataframe\">\n",
       "  <thead>\n",
       "    <tr style=\"text-align: right;\">\n",
       "      <th></th>\n",
       "      <th>customer_unique_id</th>\n",
       "      <th>customer_id</th>\n",
       "    </tr>\n",
       "  </thead>\n",
       "  <tbody>\n",
       "    <tr>\n",
       "      <th>0</th>\n",
       "      <td>0000366f3b9a7992bf8c76cfdf3221e2</td>\n",
       "      <td>1</td>\n",
       "    </tr>\n",
       "    <tr>\n",
       "      <th>1</th>\n",
       "      <td>a9312d3f089577687589a60c7955baa5</td>\n",
       "      <td>1</td>\n",
       "    </tr>\n",
       "    <tr>\n",
       "      <th>2</th>\n",
       "      <td>a9311df21a0a446cd8a0a749d08c77ac</td>\n",
       "      <td>1</td>\n",
       "    </tr>\n",
       "    <tr>\n",
       "      <th>3</th>\n",
       "      <td>a930016dbc02c5ec1f9703a25414aabb</td>\n",
       "      <td>1</td>\n",
       "    </tr>\n",
       "    <tr>\n",
       "      <th>4</th>\n",
       "      <td>a92f6790027e4cb823b2a1423382433d</td>\n",
       "      <td>1</td>\n",
       "    </tr>\n",
       "    <tr>\n",
       "      <th>...</th>\n",
       "      <td>...</td>\n",
       "      <td>...</td>\n",
       "    </tr>\n",
       "    <tr>\n",
       "      <th>91799</th>\n",
       "      <td>4283cbb478c4f1a13718c799779ddf15</td>\n",
       "      <td>1</td>\n",
       "    </tr>\n",
       "    <tr>\n",
       "      <th>91800</th>\n",
       "      <td>42a32de77a81d7864ea2f5cf3a6df9ec</td>\n",
       "      <td>1</td>\n",
       "    </tr>\n",
       "    <tr>\n",
       "      <th>91801</th>\n",
       "      <td>55029bc1da750ad2d53eb1d189bcfada</td>\n",
       "      <td>1</td>\n",
       "    </tr>\n",
       "    <tr>\n",
       "      <th>91802</th>\n",
       "      <td>55bb89d4c9e83251c6d298c9105e240a</td>\n",
       "      <td>1</td>\n",
       "    </tr>\n",
       "    <tr>\n",
       "      <th>91803</th>\n",
       "      <td>55ba99e2243364d8cb0a9cd4e4d77d21</td>\n",
       "      <td>1</td>\n",
       "    </tr>\n",
       "  </tbody>\n",
       "</table>\n",
       "<p>91804 rows × 2 columns</p>\n",
       "</div>"
      ],
      "text/plain": [
       "                     customer_unique_id  customer_id\n",
       "0      0000366f3b9a7992bf8c76cfdf3221e2            1\n",
       "1      a9312d3f089577687589a60c7955baa5            1\n",
       "2      a9311df21a0a446cd8a0a749d08c77ac            1\n",
       "3      a930016dbc02c5ec1f9703a25414aabb            1\n",
       "4      a92f6790027e4cb823b2a1423382433d            1\n",
       "...                                 ...          ...\n",
       "91799  4283cbb478c4f1a13718c799779ddf15            1\n",
       "91800  42a32de77a81d7864ea2f5cf3a6df9ec            1\n",
       "91801  55029bc1da750ad2d53eb1d189bcfada            1\n",
       "91802  55bb89d4c9e83251c6d298c9105e240a            1\n",
       "91803  55ba99e2243364d8cb0a9cd4e4d77d21            1\n",
       "\n",
       "[91804 rows x 2 columns]"
      ]
     },
     "execution_count": 551,
     "metadata": {},
     "output_type": "execute_result"
    }
   ],
   "source": [
    "one_order_unique.loc[one_order_unique['customer_id'] == 1]"
   ]
  },
  {
   "cell_type": "markdown",
   "metadata": {},
   "source": [
    "#####                                      ОТВЕТ НА ВОПРОС №1\n",
    "#####                 уникальных пользователей совершивших покупку один раз = 91 804"
   ]
  },
  {
   "cell_type": "markdown",
   "metadata": {},
   "source": [
    "### _____"
   ]
  },
  {
   "cell_type": "markdown",
   "metadata": {},
   "source": [
    "##### 2. Сколько заказов в месяц в среднем не доставляется по разным причинам(вывести детализацию по причинам)?"
   ]
  },
  {
   "cell_type": "markdown",
   "metadata": {},
   "source": [
    "#####                               используем df olist_orders_dataset для решения задачи"
   ]
  },
  {
   "cell_type": "code",
   "execution_count": 552,
   "metadata": {},
   "outputs": [
    {
     "data": {
      "text/html": [
       "<div>\n",
       "<style scoped>\n",
       "    .dataframe tbody tr th:only-of-type {\n",
       "        vertical-align: middle;\n",
       "    }\n",
       "\n",
       "    .dataframe tbody tr th {\n",
       "        vertical-align: top;\n",
       "    }\n",
       "\n",
       "    .dataframe thead th {\n",
       "        text-align: right;\n",
       "    }\n",
       "</style>\n",
       "<table border=\"1\" class=\"dataframe\">\n",
       "  <thead>\n",
       "    <tr style=\"text-align: right;\">\n",
       "      <th></th>\n",
       "      <th>order_id</th>\n",
       "      <th>customer_id</th>\n",
       "      <th>order_status</th>\n",
       "      <th>order_purchase_timestamp</th>\n",
       "      <th>order_approved_at</th>\n",
       "      <th>order_delivered_carrier_date</th>\n",
       "      <th>order_delivered_customer_date</th>\n",
       "      <th>order_estimated_delivery_date</th>\n",
       "    </tr>\n",
       "  </thead>\n",
       "  <tbody>\n",
       "    <tr>\n",
       "      <th>0</th>\n",
       "      <td>e481f51cbdc54678b7cc49136f2d6af7</td>\n",
       "      <td>9ef432eb6251297304e76186b10a928d</td>\n",
       "      <td>delivered</td>\n",
       "      <td>2017-10-02 10:56:33</td>\n",
       "      <td>2017-10-02 11:07:15</td>\n",
       "      <td>2017-10-04 19:55:00</td>\n",
       "      <td>2017-10-10 21:25:13</td>\n",
       "      <td>2017-10-18 00:00:00</td>\n",
       "    </tr>\n",
       "  </tbody>\n",
       "</table>\n",
       "</div>"
      ],
      "text/plain": [
       "                           order_id                       customer_id  \\\n",
       "0  e481f51cbdc54678b7cc49136f2d6af7  9ef432eb6251297304e76186b10a928d   \n",
       "\n",
       "  order_status order_purchase_timestamp    order_approved_at  \\\n",
       "0    delivered      2017-10-02 10:56:33  2017-10-02 11:07:15   \n",
       "\n",
       "  order_delivered_carrier_date order_delivered_customer_date  \\\n",
       "0          2017-10-04 19:55:00           2017-10-10 21:25:13   \n",
       "\n",
       "  order_estimated_delivery_date  \n",
       "0           2017-10-18 00:00:00  "
      ]
     },
     "execution_count": 552,
     "metadata": {},
     "output_type": "execute_result"
    }
   ],
   "source": [
    "olist_orders_dataset.head(1)"
   ]
  },
  {
   "cell_type": "markdown",
   "metadata": {},
   "source": [
    "#####                          создаем df где все заказы без статуса \"delivered\""
   ]
  },
  {
   "cell_type": "code",
   "execution_count": 553,
   "metadata": {},
   "outputs": [],
   "source": [
    "without_delivery = olist_orders_dataset.loc[olist_orders_dataset['order_status'] != 'delivered']"
   ]
  },
  {
   "cell_type": "markdown",
   "metadata": {},
   "source": [
    "#####                меняем тип данных столбца order_purchase_timestamp и оставляем только год и месяц"
   ]
  },
  {
   "cell_type": "code",
   "execution_count": 554,
   "metadata": {},
   "outputs": [],
   "source": [
    "without_delivery['order_purchase_timestamp'] = \\\n",
    "                  pd.to_datetime(without_delivery['order_purchase_timestamp'], errors='coerce')"
   ]
  },
  {
   "cell_type": "code",
   "execution_count": 555,
   "metadata": {},
   "outputs": [],
   "source": [
    "without_delivery.order_purchase_timestamp = without_delivery.order_purchase_timestamp.dt.strftime('%Y-%m')"
   ]
  },
  {
   "cell_type": "markdown",
   "metadata": {},
   "source": [
    "#####        группируем по статусу заказа и времни создания заказа, и считаем кол-во заказов по order_id"
   ]
  },
  {
   "cell_type": "code",
   "execution_count": 556,
   "metadata": {},
   "outputs": [
    {
     "data": {
      "text/html": [
       "<div>\n",
       "<style scoped>\n",
       "    .dataframe tbody tr th:only-of-type {\n",
       "        vertical-align: middle;\n",
       "    }\n",
       "\n",
       "    .dataframe tbody tr th {\n",
       "        vertical-align: top;\n",
       "    }\n",
       "\n",
       "    .dataframe thead th {\n",
       "        text-align: right;\n",
       "    }\n",
       "</style>\n",
       "<table border=\"1\" class=\"dataframe\">\n",
       "  <thead>\n",
       "    <tr style=\"text-align: right;\">\n",
       "      <th></th>\n",
       "      <th>order_status</th>\n",
       "      <th>order_purchase_timestamp</th>\n",
       "      <th>order_id</th>\n",
       "    </tr>\n",
       "  </thead>\n",
       "  <tbody>\n",
       "    <tr>\n",
       "      <th>0</th>\n",
       "      <td>approved</td>\n",
       "      <td>2017-02</td>\n",
       "      <td>1</td>\n",
       "    </tr>\n",
       "    <tr>\n",
       "      <th>1</th>\n",
       "      <td>approved</td>\n",
       "      <td>2017-04</td>\n",
       "      <td>1</td>\n",
       "    </tr>\n",
       "    <tr>\n",
       "      <th>2</th>\n",
       "      <td>canceled</td>\n",
       "      <td>2016-09</td>\n",
       "      <td>2</td>\n",
       "    </tr>\n",
       "    <tr>\n",
       "      <th>3</th>\n",
       "      <td>canceled</td>\n",
       "      <td>2016-10</td>\n",
       "      <td>24</td>\n",
       "    </tr>\n",
       "    <tr>\n",
       "      <th>4</th>\n",
       "      <td>canceled</td>\n",
       "      <td>2017-01</td>\n",
       "      <td>3</td>\n",
       "    </tr>\n",
       "    <tr>\n",
       "      <th>...</th>\n",
       "      <td>...</td>\n",
       "      <td>...</td>\n",
       "      <td>...</td>\n",
       "    </tr>\n",
       "    <tr>\n",
       "      <th>108</th>\n",
       "      <td>unavailable</td>\n",
       "      <td>2018-04</td>\n",
       "      <td>5</td>\n",
       "    </tr>\n",
       "    <tr>\n",
       "      <th>109</th>\n",
       "      <td>unavailable</td>\n",
       "      <td>2018-05</td>\n",
       "      <td>16</td>\n",
       "    </tr>\n",
       "    <tr>\n",
       "      <th>110</th>\n",
       "      <td>unavailable</td>\n",
       "      <td>2018-06</td>\n",
       "      <td>4</td>\n",
       "    </tr>\n",
       "    <tr>\n",
       "      <th>111</th>\n",
       "      <td>unavailable</td>\n",
       "      <td>2018-07</td>\n",
       "      <td>18</td>\n",
       "    </tr>\n",
       "    <tr>\n",
       "      <th>112</th>\n",
       "      <td>unavailable</td>\n",
       "      <td>2018-08</td>\n",
       "      <td>7</td>\n",
       "    </tr>\n",
       "  </tbody>\n",
       "</table>\n",
       "<p>113 rows × 3 columns</p>\n",
       "</div>"
      ],
      "text/plain": [
       "    order_status order_purchase_timestamp  order_id\n",
       "0       approved                  2017-02         1\n",
       "1       approved                  2017-04         1\n",
       "2       canceled                  2016-09         2\n",
       "3       canceled                  2016-10        24\n",
       "4       canceled                  2017-01         3\n",
       "..           ...                      ...       ...\n",
       "108  unavailable                  2018-04         5\n",
       "109  unavailable                  2018-05        16\n",
       "110  unavailable                  2018-06         4\n",
       "111  unavailable                  2018-07        18\n",
       "112  unavailable                  2018-08         7\n",
       "\n",
       "[113 rows x 3 columns]"
      ]
     },
     "execution_count": 556,
     "metadata": {},
     "output_type": "execute_result"
    }
   ],
   "source": [
    "without_delivery_status = without_delivery.groupby(['order_status', 'order_purchase_timestamp']) \\\n",
    "                                          .agg({'order_id' : 'count'}) \\\n",
    "                                          .reset_index()\n",
    "without_delivery_status"
   ]
  },
  {
   "cell_type": "code",
   "execution_count": 557,
   "metadata": {},
   "outputs": [],
   "source": [
    "without_delivery_status.rename(columns={'order_id': 'cancelled_mean'}, inplace=True)"
   ]
  },
  {
   "cell_type": "markdown",
   "metadata": {},
   "source": [
    "####                                     Решение к вопросу №2"
   ]
  },
  {
   "cell_type": "code",
   "execution_count": 558,
   "metadata": {},
   "outputs": [
    {
     "data": {
      "text/html": [
       "<div>\n",
       "<style scoped>\n",
       "    .dataframe tbody tr th:only-of-type {\n",
       "        vertical-align: middle;\n",
       "    }\n",
       "\n",
       "    .dataframe tbody tr th {\n",
       "        vertical-align: top;\n",
       "    }\n",
       "\n",
       "    .dataframe thead th {\n",
       "        text-align: right;\n",
       "    }\n",
       "</style>\n",
       "<table border=\"1\" class=\"dataframe\">\n",
       "  <thead>\n",
       "    <tr style=\"text-align: right;\">\n",
       "      <th></th>\n",
       "      <th>order_status</th>\n",
       "      <th>cancelled_mean</th>\n",
       "    </tr>\n",
       "  </thead>\n",
       "  <tbody>\n",
       "    <tr>\n",
       "      <th>0</th>\n",
       "      <td>unavailable</td>\n",
       "      <td>29.00</td>\n",
       "    </tr>\n",
       "    <tr>\n",
       "      <th>1</th>\n",
       "      <td>canceled</td>\n",
       "      <td>26.04</td>\n",
       "    </tr>\n",
       "  </tbody>\n",
       "</table>\n",
       "</div>"
      ],
      "text/plain": [
       "  order_status  cancelled_mean\n",
       "0  unavailable           29.00\n",
       "1     canceled           26.04"
      ]
     },
     "execution_count": 558,
     "metadata": {},
     "output_type": "execute_result"
    }
   ],
   "source": [
    "wds = without_delivery_status[without_delivery_status['order_status'] \\\n",
    "                       .isin([\"unavailable\", \"canceled\"])] \\\n",
    "                       .groupby('order_status') \\\n",
    "                       .agg({'cancelled_mean' : 'mean'}) \\\n",
    "                       .sort_values('cancelled_mean', ascending=False) \\\n",
    "                       .round(2) \\\n",
    "                       .reset_index()\n",
    "wds"
   ]
  },
  {
   "cell_type": "markdown",
   "metadata": {},
   "source": [
    "####                                      ОТВЕТ НА ВОПРОС №2\n",
    "#####       Так как большинство заказов находятся в \"статусах\", которые являются нормальными этапами обработки заказа, врамках ответа на вопрос №2 учитываем только статусы: unavailable и canceled.\n",
    "##### В месяц в среднем не доставляется заказы по следующим причинам: unavailable(29 заказов) и canceled(26 закзаов)"
   ]
  },
  {
   "cell_type": "markdown",
   "metadata": {},
   "source": [
    "# _____"
   ]
  },
  {
   "cell_type": "markdown",
   "metadata": {},
   "source": [
    "###           3. По каждому товару определить, в какой день недели товар чаще всего покупается."
   ]
  },
  {
   "cell_type": "markdown",
   "metadata": {},
   "source": [
    "#####       Присваиваем для переменных нужные df и удаляем ненужные столбцы для дальнейшего объединения df"
   ]
  },
  {
   "cell_type": "code",
   "execution_count": 559,
   "metadata": {},
   "outputs": [],
   "source": [
    "best_day_1=olist_order_items_dataset"
   ]
  },
  {
   "cell_type": "code",
   "execution_count": 560,
   "metadata": {},
   "outputs": [],
   "source": [
    "best_day_2=olist_orders_dataset_purchase"
   ]
  },
  {
   "cell_type": "code",
   "execution_count": 561,
   "metadata": {},
   "outputs": [],
   "source": [
    "best_day_1 = best_day_1.drop(best_day_1.columns[[1, 3, 4, 5, 6]], axis=1)"
   ]
  },
  {
   "cell_type": "code",
   "execution_count": 562,
   "metadata": {},
   "outputs": [],
   "source": [
    "best_day_2 = best_day_2.drop(best_day_2.columns[[2, 4, 5, 6, 7]], axis=1)"
   ]
  },
  {
   "cell_type": "markdown",
   "metadata": {},
   "source": [
    "#####   объединяем в один df, удаляем пропущенные значения, меняем формат колонок с датой "
   ]
  },
  {
   "cell_type": "code",
   "execution_count": 563,
   "metadata": {},
   "outputs": [],
   "source": [
    "items = pd.merge(best_day_1, best_day_2, on=('order_id'), how='left')"
   ]
  },
  {
   "cell_type": "code",
   "execution_count": 564,
   "metadata": {},
   "outputs": [],
   "source": [
    "items.dropna(inplace=True)"
   ]
  },
  {
   "cell_type": "code",
   "execution_count": 565,
   "metadata": {},
   "outputs": [],
   "source": [
    "items.order_purchase_timestamp = items.order_purchase_timestamp.dt.strftime('%Y-%m-%d')"
   ]
  },
  {
   "cell_type": "code",
   "execution_count": 566,
   "metadata": {},
   "outputs": [],
   "source": [
    "items['date'] = pd.to_datetime(items['order_purchase_timestamp'])"
   ]
  },
  {
   "cell_type": "code",
   "execution_count": 567,
   "metadata": {},
   "outputs": [],
   "source": [
    "items = items.drop(items.columns[[4]], axis=1)"
   ]
  },
  {
   "cell_type": "code",
   "execution_count": 568,
   "metadata": {},
   "outputs": [],
   "source": [
    "items['order_purchase_timestamp'] = pd.to_datetime(items['order_purchase_timestamp'], errors='coerce')"
   ]
  },
  {
   "cell_type": "code",
   "execution_count": 569,
   "metadata": {},
   "outputs": [],
   "source": [
    "items['date'] = pd.to_datetime(items['order_purchase_timestamp'])"
   ]
  },
  {
   "cell_type": "code",
   "execution_count": 570,
   "metadata": {},
   "outputs": [],
   "source": [
    "items['date'] = items['order_purchase_timestamp'].dt.day_name()"
   ]
  },
  {
   "cell_type": "code",
   "execution_count": 571,
   "metadata": {},
   "outputs": [],
   "source": [
    "items = items.drop(items.columns[[3]], axis=1)"
   ]
  },
  {
   "cell_type": "markdown",
   "metadata": {},
   "source": [
    "##### группируем по id и дате для получения нужных данных для ответа на вопрос №3"
   ]
  },
  {
   "cell_type": "code",
   "execution_count": 572,
   "metadata": {},
   "outputs": [],
   "source": [
    "top_day = items.groupby([\"product_id\", \"date\"], as_index=False) \\\n",
    "               .agg({\"customer_id\": \"count\"}) \\\n",
    "               .sort_values(by=\"customer_id\", ascending=False) \\\n",
    "               .drop_duplicates(subset='product_id')"
   ]
  },
  {
   "cell_type": "markdown",
   "metadata": {},
   "source": [
    "#####                                     ОТВЕТ НА ВОПРОС №3"
   ]
  },
  {
   "cell_type": "markdown",
   "metadata": {},
   "source": [
    "##### Список товаров с днями недели, в которые он(товар) продавался чаще всего."
   ]
  },
  {
   "cell_type": "code",
   "execution_count": 573,
   "metadata": {},
   "outputs": [
    {
     "data": {
      "text/html": [
       "<div>\n",
       "<style scoped>\n",
       "    .dataframe tbody tr th:only-of-type {\n",
       "        vertical-align: middle;\n",
       "    }\n",
       "\n",
       "    .dataframe tbody tr th {\n",
       "        vertical-align: top;\n",
       "    }\n",
       "\n",
       "    .dataframe thead th {\n",
       "        text-align: right;\n",
       "    }\n",
       "</style>\n",
       "<table border=\"1\" class=\"dataframe\">\n",
       "  <thead>\n",
       "    <tr style=\"text-align: right;\">\n",
       "      <th></th>\n",
       "      <th>product_id</th>\n",
       "      <th>date</th>\n",
       "      <th>customer_id</th>\n",
       "    </tr>\n",
       "  </thead>\n",
       "  <tbody>\n",
       "    <tr>\n",
       "      <th>15763</th>\n",
       "      <td>422879e10f46682990de24d770e7f83d</td>\n",
       "      <td>Wednesday</td>\n",
       "      <td>93</td>\n",
       "    </tr>\n",
       "    <tr>\n",
       "      <th>36172</th>\n",
       "      <td>99a4788cb24856965c36a24e339b6058</td>\n",
       "      <td>Monday</td>\n",
       "      <td>92</td>\n",
       "    </tr>\n",
       "    <tr>\n",
       "      <th>40673</th>\n",
       "      <td>aca2eb7d00ea1a7b8ebd4e68314663af</td>\n",
       "      <td>Thursday</td>\n",
       "      <td>89</td>\n",
       "    </tr>\n",
       "    <tr>\n",
       "      <th>19940</th>\n",
       "      <td>53b36df67ebb7c41585e8d54d6772e08</td>\n",
       "      <td>Tuesday</td>\n",
       "      <td>76</td>\n",
       "    </tr>\n",
       "    <tr>\n",
       "      <th>13419</th>\n",
       "      <td>389d119b48cf3043d311335e499d9c6b</td>\n",
       "      <td>Thursday</td>\n",
       "      <td>67</td>\n",
       "    </tr>\n",
       "    <tr>\n",
       "      <th>...</th>\n",
       "      <td>...</td>\n",
       "      <td>...</td>\n",
       "      <td>...</td>\n",
       "    </tr>\n",
       "    <tr>\n",
       "      <th>23808</th>\n",
       "      <td>643a4049ae3e6df63858575f28cd7b21</td>\n",
       "      <td>Friday</td>\n",
       "      <td>1</td>\n",
       "    </tr>\n",
       "    <tr>\n",
       "      <th>23810</th>\n",
       "      <td>643a66b1dc5dad3de6cb5a41549e72f1</td>\n",
       "      <td>Sunday</td>\n",
       "      <td>1</td>\n",
       "    </tr>\n",
       "    <tr>\n",
       "      <th>23812</th>\n",
       "      <td>643f86cfb81c8ef89293524c5cd78435</td>\n",
       "      <td>Thursday</td>\n",
       "      <td>1</td>\n",
       "    </tr>\n",
       "    <tr>\n",
       "      <th>23813</th>\n",
       "      <td>64436613065a92eedd50d29d4ec0cd43</td>\n",
       "      <td>Friday</td>\n",
       "      <td>1</td>\n",
       "    </tr>\n",
       "    <tr>\n",
       "      <th>60669</th>\n",
       "      <td>fffe9eeff12fcbd74a2f2b007dde0c58</td>\n",
       "      <td>Wednesday</td>\n",
       "      <td>1</td>\n",
       "    </tr>\n",
       "  </tbody>\n",
       "</table>\n",
       "<p>32613 rows × 3 columns</p>\n",
       "</div>"
      ],
      "text/plain": [
       "                             product_id       date  customer_id\n",
       "15763  422879e10f46682990de24d770e7f83d  Wednesday           93\n",
       "36172  99a4788cb24856965c36a24e339b6058     Monday           92\n",
       "40673  aca2eb7d00ea1a7b8ebd4e68314663af   Thursday           89\n",
       "19940  53b36df67ebb7c41585e8d54d6772e08    Tuesday           76\n",
       "13419  389d119b48cf3043d311335e499d9c6b   Thursday           67\n",
       "...                                 ...        ...          ...\n",
       "23808  643a4049ae3e6df63858575f28cd7b21     Friday            1\n",
       "23810  643a66b1dc5dad3de6cb5a41549e72f1     Sunday            1\n",
       "23812  643f86cfb81c8ef89293524c5cd78435   Thursday            1\n",
       "23813  64436613065a92eedd50d29d4ec0cd43     Friday            1\n",
       "60669  fffe9eeff12fcbd74a2f2b007dde0c58  Wednesday            1\n",
       "\n",
       "[32613 rows x 3 columns]"
      ]
     },
     "execution_count": 573,
     "metadata": {},
     "output_type": "execute_result"
    }
   ],
   "source": [
    "top_day"
   ]
  },
  {
   "cell_type": "markdown",
   "metadata": {},
   "source": [
    "#####                            кол-во купленных товаров по дням недели + барплот"
   ]
  },
  {
   "cell_type": "code",
   "execution_count": 574,
   "metadata": {},
   "outputs": [],
   "source": [
    "tod_day_statistic = top_day.groupby('date')\\\n",
    "                           .agg({'customer_id' : 'sum'})\\\n",
    "                           .sort_values('customer_id', ascending=False)\\\n",
    "                           .rename({'customer_id': 'total_buy'}, axis=1)\\\n",
    "                           .reset_index()"
   ]
  },
  {
   "cell_type": "code",
   "execution_count": 575,
   "metadata": {},
   "outputs": [
    {
     "data": {
      "text/html": [
       "<div>\n",
       "<style scoped>\n",
       "    .dataframe tbody tr th:only-of-type {\n",
       "        vertical-align: middle;\n",
       "    }\n",
       "\n",
       "    .dataframe tbody tr th {\n",
       "        vertical-align: top;\n",
       "    }\n",
       "\n",
       "    .dataframe thead th {\n",
       "        text-align: right;\n",
       "    }\n",
       "</style>\n",
       "<table border=\"1\" class=\"dataframe\">\n",
       "  <thead>\n",
       "    <tr style=\"text-align: right;\">\n",
       "      <th></th>\n",
       "      <th>date</th>\n",
       "      <th>total_buy</th>\n",
       "    </tr>\n",
       "  </thead>\n",
       "  <tbody>\n",
       "    <tr>\n",
       "      <th>0</th>\n",
       "      <td>Monday</td>\n",
       "      <td>10162</td>\n",
       "    </tr>\n",
       "    <tr>\n",
       "      <th>1</th>\n",
       "      <td>Tuesday</td>\n",
       "      <td>8968</td>\n",
       "    </tr>\n",
       "    <tr>\n",
       "      <th>2</th>\n",
       "      <td>Wednesday</td>\n",
       "      <td>8548</td>\n",
       "    </tr>\n",
       "    <tr>\n",
       "      <th>3</th>\n",
       "      <td>Friday</td>\n",
       "      <td>8239</td>\n",
       "    </tr>\n",
       "    <tr>\n",
       "      <th>4</th>\n",
       "      <td>Thursday</td>\n",
       "      <td>7942</td>\n",
       "    </tr>\n",
       "    <tr>\n",
       "      <th>5</th>\n",
       "      <td>Sunday</td>\n",
       "      <td>5754</td>\n",
       "    </tr>\n",
       "    <tr>\n",
       "      <th>6</th>\n",
       "      <td>Saturday</td>\n",
       "      <td>4976</td>\n",
       "    </tr>\n",
       "  </tbody>\n",
       "</table>\n",
       "</div>"
      ],
      "text/plain": [
       "        date  total_buy\n",
       "0     Monday      10162\n",
       "1    Tuesday       8968\n",
       "2  Wednesday       8548\n",
       "3     Friday       8239\n",
       "4   Thursday       7942\n",
       "5     Sunday       5754\n",
       "6   Saturday       4976"
      ]
     },
     "execution_count": 575,
     "metadata": {},
     "output_type": "execute_result"
    }
   ],
   "source": [
    "tod_day_statistic"
   ]
  },
  {
   "cell_type": "code",
   "execution_count": 576,
   "metadata": {},
   "outputs": [
    {
     "data": {
      "text/plain": [
       "<matplotlib.axes._subplots.AxesSubplot at 0x7eff4a05feb8>"
      ]
     },
     "execution_count": 576,
     "metadata": {},
     "output_type": "execute_result"
    },
    {
     "data": {
      "image/png": "[encoded data removed]",
      "text/plain": [
       "<Figure size 432x288 with 1 Axes>"
      ]
     },
     "metadata": {
      "needs_background": "light"
     },
     "output_type": "display_data"
    }
   ],
   "source": [
    "sns.barplot(x='date',y='total_buy', data=tod_day_statistic)"
   ]
  },
  {
   "cell_type": "markdown",
   "metadata": {},
   "source": [
    "##### ______"
   ]
  },
  {
   "cell_type": "markdown",
   "metadata": {},
   "source": [
    "#####               4. Сколько у каждого из пользователей в среднем покупок в неделю (по месяцам)? \n",
    "#####               Не стоит забывать, что внутри месяца может быть не целое количество недель. \n",
    "#####               Например, в ноябре 2021 года 4,28 недели. И внутри метрики это нужно учесть."
   ]
  },
  {
   "cell_type": "markdown",
   "metadata": {},
   "source": [
    "#####  Создаю из общего df необходимый df для решения + удаляю ненужные статусы "
   ]
  },
  {
   "cell_type": "code",
   "execution_count": 578,
   "metadata": {},
   "outputs": [],
   "source": [
    "purchases_2 = full_df_purchase.groupby(['order_id', 'order_purchase_timestamp', 'customer_unique_id', 'order_status', 'order_approved_at']) \\\n",
    ".agg({'price' : 'sum'}).reset_index()"
   ]
  },
  {
   "cell_type": "markdown",
   "metadata": {},
   "source": [
    "##### Сортирую df по признакам покупки + удаляю строки с NaN из столбца order_approved_at (так как факта оплаты не было)"
   ]
  },
  {
   "cell_type": "code",
   "execution_count": 580,
   "metadata": {},
   "outputs": [],
   "source": [
    "df4_purchase = purchases_2[purchases_2['order_status'].isin(['shipped', 'delivered', 'processing', 'approved'])]"
   ]
  },
  {
   "cell_type": "code",
   "execution_count": 581,
   "metadata": {},
   "outputs": [],
   "source": [
    "df4_purchase = df4_purchase[df4_purchase['order_approved_at'].notna()]"
   ]
  },
  {
   "cell_type": "markdown",
   "metadata": {},
   "source": [
    "##### удаляю ненужные столбцы + меняю тип данных и формат для колонок с датой"
   ]
  },
  {
   "cell_type": "code",
   "execution_count": 582,
   "metadata": {},
   "outputs": [],
   "source": [
    "df4_purchase['order_purchase_timestamp']= pd.to_datetime(df4_purchase['order_purchase_timestamp'])"
   ]
  },
  {
   "cell_type": "code",
   "execution_count": 583,
   "metadata": {},
   "outputs": [],
   "source": [
    "df4_purchase['order_purchase_timestamp'] = df4_purchase['order_purchase_timestamp'].dt.strftime('%Y-%m')"
   ]
  },
  {
   "cell_type": "markdown",
   "metadata": {},
   "source": [
    "#####  отсекаю крайние значения данных по датам сентябрь 2016 и сентябрь 2018, так как месяцы неполные"
   ]
  },
  {
   "cell_type": "code",
   "execution_count": 643,
   "metadata": {},
   "outputs": [],
   "source": [
    "df4_purchase = df4_purchase[(df4_purchase['order_purchase_timestamp'] > '2016-10-01') \\\n",
    "               & (df4_purchase['order_purchase_timestamp'] < '2018-09-30')]"
   ]
  },
  {
   "cell_type": "markdown",
   "metadata": {},
   "source": [
    "#####                  Группирую df по кол-ву покупок по каждому пользователю в месяц"
   ]
  },
  {
   "cell_type": "code",
   "execution_count": 644,
   "metadata": {},
   "outputs": [],
   "source": [
    "unique_purchases_by_month = \\\n",
    "        df4_purchase.groupby(['customer_unique_id', 'order_purchase_timestamp'], as_index=False) \\\n",
    "                    .agg({'order_id' : 'count'})"
   ]
  },
  {
   "cell_type": "code",
   "execution_count": 645,
   "metadata": {},
   "outputs": [
    {
     "data": {
      "text/html": [
       "<div>\n",
       "<style scoped>\n",
       "    .dataframe tbody tr th:only-of-type {\n",
       "        vertical-align: middle;\n",
       "    }\n",
       "\n",
       "    .dataframe tbody tr th {\n",
       "        vertical-align: top;\n",
       "    }\n",
       "\n",
       "    .dataframe thead th {\n",
       "        text-align: right;\n",
       "    }\n",
       "</style>\n",
       "<table border=\"1\" class=\"dataframe\">\n",
       "  <thead>\n",
       "    <tr style=\"text-align: right;\">\n",
       "      <th></th>\n",
       "      <th>customer_unique_id</th>\n",
       "      <th>order_purchase_timestamp</th>\n",
       "      <th>order_id</th>\n",
       "    </tr>\n",
       "  </thead>\n",
       "  <tbody>\n",
       "    <tr>\n",
       "      <th>0</th>\n",
       "      <td>0000366f3b9a7992bf8c76cfdf3221e2</td>\n",
       "      <td>2018-05</td>\n",
       "      <td>1</td>\n",
       "    </tr>\n",
       "    <tr>\n",
       "      <th>1</th>\n",
       "      <td>0000b849f77a49e4a4ce2b2a4ca5be3f</td>\n",
       "      <td>2018-05</td>\n",
       "      <td>1</td>\n",
       "    </tr>\n",
       "    <tr>\n",
       "      <th>2</th>\n",
       "      <td>0000f46a3911fa3c0805444483337064</td>\n",
       "      <td>2017-03</td>\n",
       "      <td>1</td>\n",
       "    </tr>\n",
       "    <tr>\n",
       "      <th>3</th>\n",
       "      <td>0000f6ccb0745a6a4b88665a16c9f078</td>\n",
       "      <td>2017-10</td>\n",
       "      <td>1</td>\n",
       "    </tr>\n",
       "    <tr>\n",
       "      <th>4</th>\n",
       "      <td>0004aac84e0df4da2b147fca70cf8255</td>\n",
       "      <td>2017-11</td>\n",
       "      <td>1</td>\n",
       "    </tr>\n",
       "    <tr>\n",
       "      <th>...</th>\n",
       "      <td>...</td>\n",
       "      <td>...</td>\n",
       "      <td>...</td>\n",
       "    </tr>\n",
       "    <tr>\n",
       "      <th>96268</th>\n",
       "      <td>fffcf5a5ff07b0908bd4e2dbc735a684</td>\n",
       "      <td>2017-06</td>\n",
       "      <td>1</td>\n",
       "    </tr>\n",
       "    <tr>\n",
       "      <th>96269</th>\n",
       "      <td>fffea47cd6d3cc0a88bd621562a9d061</td>\n",
       "      <td>2017-12</td>\n",
       "      <td>1</td>\n",
       "    </tr>\n",
       "    <tr>\n",
       "      <th>96270</th>\n",
       "      <td>ffff371b4d645b6ecea244b27531430a</td>\n",
       "      <td>2017-02</td>\n",
       "      <td>1</td>\n",
       "    </tr>\n",
       "    <tr>\n",
       "      <th>96271</th>\n",
       "      <td>ffff5962728ec6157033ef9805bacc48</td>\n",
       "      <td>2018-05</td>\n",
       "      <td>1</td>\n",
       "    </tr>\n",
       "    <tr>\n",
       "      <th>96272</th>\n",
       "      <td>ffffd2657e2aad2907e67c3e9daecbeb</td>\n",
       "      <td>2017-05</td>\n",
       "      <td>1</td>\n",
       "    </tr>\n",
       "  </tbody>\n",
       "</table>\n",
       "<p>96273 rows × 3 columns</p>\n",
       "</div>"
      ],
      "text/plain": [
       "                     customer_unique_id order_purchase_timestamp  order_id\n",
       "0      0000366f3b9a7992bf8c76cfdf3221e2                  2018-05         1\n",
       "1      0000b849f77a49e4a4ce2b2a4ca5be3f                  2018-05         1\n",
       "2      0000f46a3911fa3c0805444483337064                  2017-03         1\n",
       "3      0000f6ccb0745a6a4b88665a16c9f078                  2017-10         1\n",
       "4      0004aac84e0df4da2b147fca70cf8255                  2017-11         1\n",
       "...                                 ...                      ...       ...\n",
       "96268  fffcf5a5ff07b0908bd4e2dbc735a684                  2017-06         1\n",
       "96269  fffea47cd6d3cc0a88bd621562a9d061                  2017-12         1\n",
       "96270  ffff371b4d645b6ecea244b27531430a                  2017-02         1\n",
       "96271  ffff5962728ec6157033ef9805bacc48                  2018-05         1\n",
       "96272  ffffd2657e2aad2907e67c3e9daecbeb                  2017-05         1\n",
       "\n",
       "[96273 rows x 3 columns]"
      ]
     },
     "execution_count": 645,
     "metadata": {},
     "output_type": "execute_result"
    }
   ],
   "source": [
    "unique_purchases_by_month"
   ]
  },
  {
   "cell_type": "markdown",
   "metadata": {},
   "source": [
    "#####          Добавляю новую колонку с кол-вом дней в каждом месяце при помощи dt.days_in_month"
   ]
  },
  {
   "cell_type": "code",
   "execution_count": 646,
   "metadata": {},
   "outputs": [],
   "source": [
    "unique_purchases_by_month['order_purchase_timestamp']= \\\n",
    "                        pd.to_datetime(unique_purchases_by_month['order_purchase_timestamp'])"
   ]
  },
  {
   "cell_type": "code",
   "execution_count": 647,
   "metadata": {},
   "outputs": [],
   "source": [
    "unique_purchases_by_month['days'] = unique_purchases_by_month.order_purchase_timestamp.dt.days_in_month"
   ]
  },
  {
   "cell_type": "code",
   "execution_count": 648,
   "metadata": {},
   "outputs": [
    {
     "data": {
      "text/html": [
       "<div>\n",
       "<style scoped>\n",
       "    .dataframe tbody tr th:only-of-type {\n",
       "        vertical-align: middle;\n",
       "    }\n",
       "\n",
       "    .dataframe tbody tr th {\n",
       "        vertical-align: top;\n",
       "    }\n",
       "\n",
       "    .dataframe thead th {\n",
       "        text-align: right;\n",
       "    }\n",
       "</style>\n",
       "<table border=\"1\" class=\"dataframe\">\n",
       "  <thead>\n",
       "    <tr style=\"text-align: right;\">\n",
       "      <th></th>\n",
       "      <th>customer_unique_id</th>\n",
       "      <th>order_purchase_timestamp</th>\n",
       "      <th>order_id</th>\n",
       "      <th>days</th>\n",
       "    </tr>\n",
       "  </thead>\n",
       "  <tbody>\n",
       "    <tr>\n",
       "      <th>0</th>\n",
       "      <td>0000366f3b9a7992bf8c76cfdf3221e2</td>\n",
       "      <td>2018-05-01</td>\n",
       "      <td>1</td>\n",
       "      <td>31</td>\n",
       "    </tr>\n",
       "    <tr>\n",
       "      <th>1</th>\n",
       "      <td>0000b849f77a49e4a4ce2b2a4ca5be3f</td>\n",
       "      <td>2018-05-01</td>\n",
       "      <td>1</td>\n",
       "      <td>31</td>\n",
       "    </tr>\n",
       "    <tr>\n",
       "      <th>2</th>\n",
       "      <td>0000f46a3911fa3c0805444483337064</td>\n",
       "      <td>2017-03-01</td>\n",
       "      <td>1</td>\n",
       "      <td>31</td>\n",
       "    </tr>\n",
       "    <tr>\n",
       "      <th>3</th>\n",
       "      <td>0000f6ccb0745a6a4b88665a16c9f078</td>\n",
       "      <td>2017-10-01</td>\n",
       "      <td>1</td>\n",
       "      <td>31</td>\n",
       "    </tr>\n",
       "    <tr>\n",
       "      <th>4</th>\n",
       "      <td>0004aac84e0df4da2b147fca70cf8255</td>\n",
       "      <td>2017-11-01</td>\n",
       "      <td>1</td>\n",
       "      <td>30</td>\n",
       "    </tr>\n",
       "    <tr>\n",
       "      <th>...</th>\n",
       "      <td>...</td>\n",
       "      <td>...</td>\n",
       "      <td>...</td>\n",
       "      <td>...</td>\n",
       "    </tr>\n",
       "    <tr>\n",
       "      <th>96268</th>\n",
       "      <td>fffcf5a5ff07b0908bd4e2dbc735a684</td>\n",
       "      <td>2017-06-01</td>\n",
       "      <td>1</td>\n",
       "      <td>30</td>\n",
       "    </tr>\n",
       "    <tr>\n",
       "      <th>96269</th>\n",
       "      <td>fffea47cd6d3cc0a88bd621562a9d061</td>\n",
       "      <td>2017-12-01</td>\n",
       "      <td>1</td>\n",
       "      <td>31</td>\n",
       "    </tr>\n",
       "    <tr>\n",
       "      <th>96270</th>\n",
       "      <td>ffff371b4d645b6ecea244b27531430a</td>\n",
       "      <td>2017-02-01</td>\n",
       "      <td>1</td>\n",
       "      <td>28</td>\n",
       "    </tr>\n",
       "    <tr>\n",
       "      <th>96271</th>\n",
       "      <td>ffff5962728ec6157033ef9805bacc48</td>\n",
       "      <td>2018-05-01</td>\n",
       "      <td>1</td>\n",
       "      <td>31</td>\n",
       "    </tr>\n",
       "    <tr>\n",
       "      <th>96272</th>\n",
       "      <td>ffffd2657e2aad2907e67c3e9daecbeb</td>\n",
       "      <td>2017-05-01</td>\n",
       "      <td>1</td>\n",
       "      <td>31</td>\n",
       "    </tr>\n",
       "  </tbody>\n",
       "</table>\n",
       "<p>96273 rows × 4 columns</p>\n",
       "</div>"
      ],
      "text/plain": [
       "                     customer_unique_id order_purchase_timestamp  order_id  \\\n",
       "0      0000366f3b9a7992bf8c76cfdf3221e2               2018-05-01         1   \n",
       "1      0000b849f77a49e4a4ce2b2a4ca5be3f               2018-05-01         1   \n",
       "2      0000f46a3911fa3c0805444483337064               2017-03-01         1   \n",
       "3      0000f6ccb0745a6a4b88665a16c9f078               2017-10-01         1   \n",
       "4      0004aac84e0df4da2b147fca70cf8255               2017-11-01         1   \n",
       "...                                 ...                      ...       ...   \n",
       "96268  fffcf5a5ff07b0908bd4e2dbc735a684               2017-06-01         1   \n",
       "96269  fffea47cd6d3cc0a88bd621562a9d061               2017-12-01         1   \n",
       "96270  ffff371b4d645b6ecea244b27531430a               2017-02-01         1   \n",
       "96271  ffff5962728ec6157033ef9805bacc48               2018-05-01         1   \n",
       "96272  ffffd2657e2aad2907e67c3e9daecbeb               2017-05-01         1   \n",
       "\n",
       "       days  \n",
       "0        31  \n",
       "1        31  \n",
       "2        31  \n",
       "3        31  \n",
       "4        30  \n",
       "...     ...  \n",
       "96268    30  \n",
       "96269    31  \n",
       "96270    28  \n",
       "96271    31  \n",
       "96272    31  \n",
       "\n",
       "[96273 rows x 4 columns]"
      ]
     },
     "execution_count": 648,
     "metadata": {},
     "output_type": "execute_result"
    }
   ],
   "source": [
    "unique_purchases_by_month"
   ]
  },
  {
   "cell_type": "code",
   "execution_count": 649,
   "metadata": {},
   "outputs": [],
   "source": [
    "unique_purchases_by_month[\"bought_in_one_week\"] = \\\n",
    "        (unique_purchases_by_month.order_id / (unique_purchases_by_month.days / 7))"
   ]
  },
  {
   "cell_type": "markdown",
   "metadata": {},
   "source": [
    "#####                                     ОТВЕТ НА ВОПРОС №4"
   ]
  },
  {
   "cell_type": "code",
   "execution_count": 650,
   "metadata": {},
   "outputs": [],
   "source": [
    "unique_purchases_by_month_final = \\\n",
    "        unique_purchases_by_month.rename({'order_purchase_timestamp': 'date',\\\n",
    "                                          'customer_id' : 'QTY', 'days' : 'days_in_the_month'},\\\n",
    "                                           axis=1) \\\n",
    "                                 .round(2)"
   ]
  },
  {
   "cell_type": "code",
   "execution_count": 651,
   "metadata": {},
   "outputs": [
    {
     "data": {
      "text/html": [
       "<div>\n",
       "<style scoped>\n",
       "    .dataframe tbody tr th:only-of-type {\n",
       "        vertical-align: middle;\n",
       "    }\n",
       "\n",
       "    .dataframe tbody tr th {\n",
       "        vertical-align: top;\n",
       "    }\n",
       "\n",
       "    .dataframe thead th {\n",
       "        text-align: right;\n",
       "    }\n",
       "</style>\n",
       "<table border=\"1\" class=\"dataframe\">\n",
       "  <thead>\n",
       "    <tr style=\"text-align: right;\">\n",
       "      <th></th>\n",
       "      <th>customer_unique_id</th>\n",
       "      <th>date</th>\n",
       "      <th>order_id</th>\n",
       "      <th>days_in_the_month</th>\n",
       "      <th>bought_in_one_week</th>\n",
       "    </tr>\n",
       "  </thead>\n",
       "  <tbody>\n",
       "    <tr>\n",
       "      <th>7194</th>\n",
       "      <td>12f5d6e1cbf93dafd9dcc19095df0b3d</td>\n",
       "      <td>2017-01-01</td>\n",
       "      <td>6</td>\n",
       "      <td>31</td>\n",
       "      <td>1.35</td>\n",
       "    </tr>\n",
       "    <tr>\n",
       "      <th>23501</th>\n",
       "      <td>3e43e6105506432c953e165fb2acf44c</td>\n",
       "      <td>2018-02-01</td>\n",
       "      <td>4</td>\n",
       "      <td>28</td>\n",
       "      <td>1.00</td>\n",
       "    </tr>\n",
       "    <tr>\n",
       "      <th>61078</th>\n",
       "      <td>a239b8e2fbce33780f1f1912e2ee5275</td>\n",
       "      <td>2017-02-01</td>\n",
       "      <td>4</td>\n",
       "      <td>28</td>\n",
       "      <td>1.00</td>\n",
       "    </tr>\n",
       "    <tr>\n",
       "      <th>68140</th>\n",
       "      <td>b4e4f24de1e8725b74e4a1f4975116ed</td>\n",
       "      <td>2018-02-01</td>\n",
       "      <td>4</td>\n",
       "      <td>28</td>\n",
       "      <td>1.00</td>\n",
       "    </tr>\n",
       "    <tr>\n",
       "      <th>66534</th>\n",
       "      <td>b08fab27d47a1eb6deda07bfd965ad43</td>\n",
       "      <td>2017-09-01</td>\n",
       "      <td>4</td>\n",
       "      <td>30</td>\n",
       "      <td>0.93</td>\n",
       "    </tr>\n",
       "    <tr>\n",
       "      <th>...</th>\n",
       "      <td>...</td>\n",
       "      <td>...</td>\n",
       "      <td>...</td>\n",
       "      <td>...</td>\n",
       "      <td>...</td>\n",
       "    </tr>\n",
       "    <tr>\n",
       "      <th>33659</th>\n",
       "      <td>5925dfa8cd87ab4d852383f7039c8bc2</td>\n",
       "      <td>2018-03-01</td>\n",
       "      <td>1</td>\n",
       "      <td>31</td>\n",
       "      <td>0.23</td>\n",
       "    </tr>\n",
       "    <tr>\n",
       "      <th>33658</th>\n",
       "      <td>5925dfa8cd87ab4d852383f7039c8bc2</td>\n",
       "      <td>2017-09-01</td>\n",
       "      <td>1</td>\n",
       "      <td>30</td>\n",
       "      <td>0.23</td>\n",
       "    </tr>\n",
       "    <tr>\n",
       "      <th>33656</th>\n",
       "      <td>592596924fbb356d2f929f3a57b0187d</td>\n",
       "      <td>2018-08-01</td>\n",
       "      <td>1</td>\n",
       "      <td>31</td>\n",
       "      <td>0.23</td>\n",
       "    </tr>\n",
       "    <tr>\n",
       "      <th>33655</th>\n",
       "      <td>59256ff8388feafafdc297f868dea116</td>\n",
       "      <td>2018-03-01</td>\n",
       "      <td>1</td>\n",
       "      <td>31</td>\n",
       "      <td>0.23</td>\n",
       "    </tr>\n",
       "    <tr>\n",
       "      <th>96272</th>\n",
       "      <td>ffffd2657e2aad2907e67c3e9daecbeb</td>\n",
       "      <td>2017-05-01</td>\n",
       "      <td>1</td>\n",
       "      <td>31</td>\n",
       "      <td>0.23</td>\n",
       "    </tr>\n",
       "  </tbody>\n",
       "</table>\n",
       "<p>96273 rows × 5 columns</p>\n",
       "</div>"
      ],
      "text/plain": [
       "                     customer_unique_id       date  order_id  \\\n",
       "7194   12f5d6e1cbf93dafd9dcc19095df0b3d 2017-01-01         6   \n",
       "23501  3e43e6105506432c953e165fb2acf44c 2018-02-01         4   \n",
       "61078  a239b8e2fbce33780f1f1912e2ee5275 2017-02-01         4   \n",
       "68140  b4e4f24de1e8725b74e4a1f4975116ed 2018-02-01         4   \n",
       "66534  b08fab27d47a1eb6deda07bfd965ad43 2017-09-01         4   \n",
       "...                                 ...        ...       ...   \n",
       "33659  5925dfa8cd87ab4d852383f7039c8bc2 2018-03-01         1   \n",
       "33658  5925dfa8cd87ab4d852383f7039c8bc2 2017-09-01         1   \n",
       "33656  592596924fbb356d2f929f3a57b0187d 2018-08-01         1   \n",
       "33655  59256ff8388feafafdc297f868dea116 2018-03-01         1   \n",
       "96272  ffffd2657e2aad2907e67c3e9daecbeb 2017-05-01         1   \n",
       "\n",
       "       days_in_the_month  bought_in_one_week  \n",
       "7194                  31                1.35  \n",
       "23501                 28                1.00  \n",
       "61078                 28                1.00  \n",
       "68140                 28                1.00  \n",
       "66534                 30                0.93  \n",
       "...                  ...                 ...  \n",
       "33659                 31                0.23  \n",
       "33658                 30                0.23  \n",
       "33656                 31                0.23  \n",
       "33655                 31                0.23  \n",
       "96272                 31                0.23  \n",
       "\n",
       "[96273 rows x 5 columns]"
      ]
     },
     "execution_count": 651,
     "metadata": {},
     "output_type": "execute_result"
    }
   ],
   "source": [
    "unique_purchases_by_month_final.sort_values('bought_in_one_week', ascending=False)"
   ]
  },
  {
   "cell_type": "markdown",
   "metadata": {},
   "source": [
    "##### Для удобства визуализации ТОП20 покупок (в среднем) ввожу колонку с дублированием индексов, для более компактного отображения в барплот и поиску в df нужных строк"
   ]
  },
  {
   "cell_type": "code",
   "execution_count": 652,
   "metadata": {},
   "outputs": [],
   "source": [
    "unique_purchases_by_month_final_top20 = unique_purchases_by_month_final"
   ]
  },
  {
   "cell_type": "code",
   "execution_count": 653,
   "metadata": {},
   "outputs": [],
   "source": [
    "unique_purchases_by_month_final_top20['index']=unique_purchases_by_month_final_top20.index"
   ]
  },
  {
   "cell_type": "code",
   "execution_count": 654,
   "metadata": {},
   "outputs": [],
   "source": [
    "unique_purchases_by_month_final_top20 = unique_purchases_by_month_final_top20 \\\n",
    "                                        .sort_values('bought_in_one_week', ascending=False).head(20)"
   ]
  },
  {
   "cell_type": "code",
   "execution_count": 655,
   "metadata": {},
   "outputs": [
    {
     "data": {
      "text/plain": [
       "<matplotlib.axes._subplots.AxesSubplot at 0x7eff32632b38>"
      ]
     },
     "execution_count": 655,
     "metadata": {},
     "output_type": "execute_result"
    },
    {
     "data": {
      "image/png": "[encoded data removed]",
      "text/plain": [
       "<Figure size 1224x504 with 1 Axes>"
      ]
     },
     "metadata": {},
     "output_type": "display_data"
    }
   ],
   "source": [
    "sns.barplot(x='bought_in_one_week', y='index', data=unique_purchases_by_month_final_top20, orient='h')"
   ]
  },
  {
   "cell_type": "markdown",
   "metadata": {},
   "source": [
    "#####                      5. Используя pandas, проведи когортный анализ пользователей. \n",
    "#####            В период с января по декабрь выяви когорту с самым высоким retention на 3й месяц."
   ]
  },
  {
   "cell_type": "markdown",
   "metadata": {},
   "source": [
    "#####       создаем новый df(normal_df) для решения задачи, где добавляем колонку датой первой покупки"
   ]
  },
  {
   "cell_type": "code",
   "execution_count": 597,
   "metadata": {},
   "outputs": [],
   "source": [
    "df5 = full_df_purchase.groupby(['customer_unique_id', 'order_id', 'order_purchase_timestamp'], \\\n",
    "                               as_index=False) \\\n",
    "                      .agg({'order_id': 'count'})"
   ]
  },
  {
   "cell_type": "code",
   "execution_count": 656,
   "metadata": {},
   "outputs": [],
   "source": [
    "first_buy_df = full_df_purchase.groupby('customer_unique_id', as_index = False) \\\n",
    "                      .agg({'order_purchase_timestamp': 'min'}) \\\n",
    "                      .rename(columns = {'order_purchase_timestamp': 'first_buy'})"
   ]
  },
  {
   "cell_type": "code",
   "execution_count": 600,
   "metadata": {},
   "outputs": [
    {
     "data": {
      "text/html": [
       "<div>\n",
       "<style scoped>\n",
       "    .dataframe tbody tr th:only-of-type {\n",
       "        vertical-align: middle;\n",
       "    }\n",
       "\n",
       "    .dataframe tbody tr th {\n",
       "        vertical-align: top;\n",
       "    }\n",
       "\n",
       "    .dataframe thead th {\n",
       "        text-align: right;\n",
       "    }\n",
       "</style>\n",
       "<table border=\"1\" class=\"dataframe\">\n",
       "  <thead>\n",
       "    <tr style=\"text-align: right;\">\n",
       "      <th></th>\n",
       "      <th>customer_unique_id</th>\n",
       "      <th>first_buy</th>\n",
       "    </tr>\n",
       "  </thead>\n",
       "  <tbody>\n",
       "    <tr>\n",
       "      <th>0</th>\n",
       "      <td>0000366f3b9a7992bf8c76cfdf3221e2</td>\n",
       "      <td>2018-05-10 10:56:27</td>\n",
       "    </tr>\n",
       "    <tr>\n",
       "      <th>1</th>\n",
       "      <td>0000b849f77a49e4a4ce2b2a4ca5be3f</td>\n",
       "      <td>2018-05-07 11:11:27</td>\n",
       "    </tr>\n",
       "    <tr>\n",
       "      <th>2</th>\n",
       "      <td>0000f46a3911fa3c0805444483337064</td>\n",
       "      <td>2017-03-10 21:05:03</td>\n",
       "    </tr>\n",
       "    <tr>\n",
       "      <th>3</th>\n",
       "      <td>0000f6ccb0745a6a4b88665a16c9f078</td>\n",
       "      <td>2017-10-12 20:29:41</td>\n",
       "    </tr>\n",
       "    <tr>\n",
       "      <th>4</th>\n",
       "      <td>0004aac84e0df4da2b147fca70cf8255</td>\n",
       "      <td>2017-11-14 19:45:42</td>\n",
       "    </tr>\n",
       "    <tr>\n",
       "      <th>...</th>\n",
       "      <td>...</td>\n",
       "      <td>...</td>\n",
       "    </tr>\n",
       "    <tr>\n",
       "      <th>94670</th>\n",
       "      <td>fffcf5a5ff07b0908bd4e2dbc735a684</td>\n",
       "      <td>2017-06-08 21:00:36</td>\n",
       "    </tr>\n",
       "    <tr>\n",
       "      <th>94671</th>\n",
       "      <td>fffea47cd6d3cc0a88bd621562a9d061</td>\n",
       "      <td>2017-12-10 20:07:56</td>\n",
       "    </tr>\n",
       "    <tr>\n",
       "      <th>94672</th>\n",
       "      <td>ffff371b4d645b6ecea244b27531430a</td>\n",
       "      <td>2017-02-07 15:49:16</td>\n",
       "    </tr>\n",
       "    <tr>\n",
       "      <th>94673</th>\n",
       "      <td>ffff5962728ec6157033ef9805bacc48</td>\n",
       "      <td>2018-05-02 15:17:41</td>\n",
       "    </tr>\n",
       "    <tr>\n",
       "      <th>94674</th>\n",
       "      <td>ffffd2657e2aad2907e67c3e9daecbeb</td>\n",
       "      <td>2017-05-02 20:18:45</td>\n",
       "    </tr>\n",
       "  </tbody>\n",
       "</table>\n",
       "<p>94675 rows × 2 columns</p>\n",
       "</div>"
      ],
      "text/plain": [
       "                     customer_unique_id           first_buy\n",
       "0      0000366f3b9a7992bf8c76cfdf3221e2 2018-05-10 10:56:27\n",
       "1      0000b849f77a49e4a4ce2b2a4ca5be3f 2018-05-07 11:11:27\n",
       "2      0000f46a3911fa3c0805444483337064 2017-03-10 21:05:03\n",
       "3      0000f6ccb0745a6a4b88665a16c9f078 2017-10-12 20:29:41\n",
       "4      0004aac84e0df4da2b147fca70cf8255 2017-11-14 19:45:42\n",
       "...                                 ...                 ...\n",
       "94670  fffcf5a5ff07b0908bd4e2dbc735a684 2017-06-08 21:00:36\n",
       "94671  fffea47cd6d3cc0a88bd621562a9d061 2017-12-10 20:07:56\n",
       "94672  ffff371b4d645b6ecea244b27531430a 2017-02-07 15:49:16\n",
       "94673  ffff5962728ec6157033ef9805bacc48 2018-05-02 15:17:41\n",
       "94674  ffffd2657e2aad2907e67c3e9daecbeb 2017-05-02 20:18:45\n",
       "\n",
       "[94675 rows x 2 columns]"
      ]
     },
     "execution_count": 600,
     "metadata": {},
     "output_type": "execute_result"
    }
   ],
   "source": [
    "first_buy_df"
   ]
  },
  {
   "cell_type": "code",
   "execution_count": 601,
   "metadata": {},
   "outputs": [],
   "source": [
    "normal_df = pd.merge(df5, first_buy_df, on=('customer_unique_id'), how='left')"
   ]
  },
  {
   "cell_type": "code",
   "execution_count": 602,
   "metadata": {},
   "outputs": [
    {
     "data": {
      "text/html": [
       "<div>\n",
       "<style scoped>\n",
       "    .dataframe tbody tr th:only-of-type {\n",
       "        vertical-align: middle;\n",
       "    }\n",
       "\n",
       "    .dataframe tbody tr th {\n",
       "        vertical-align: top;\n",
       "    }\n",
       "\n",
       "    .dataframe thead th {\n",
       "        text-align: right;\n",
       "    }\n",
       "</style>\n",
       "<table border=\"1\" class=\"dataframe\">\n",
       "  <thead>\n",
       "    <tr style=\"text-align: right;\">\n",
       "      <th></th>\n",
       "      <th>customer_unique_id</th>\n",
       "      <th>order_purchase_timestamp</th>\n",
       "      <th>order_id</th>\n",
       "      <th>first_buy</th>\n",
       "    </tr>\n",
       "  </thead>\n",
       "  <tbody>\n",
       "    <tr>\n",
       "      <th>0</th>\n",
       "      <td>0000366f3b9a7992bf8c76cfdf3221e2</td>\n",
       "      <td>2018-05-10 10:56:27</td>\n",
       "      <td>1</td>\n",
       "      <td>2018-05-10 10:56:27</td>\n",
       "    </tr>\n",
       "    <tr>\n",
       "      <th>1</th>\n",
       "      <td>0000b849f77a49e4a4ce2b2a4ca5be3f</td>\n",
       "      <td>2018-05-07 11:11:27</td>\n",
       "      <td>1</td>\n",
       "      <td>2018-05-07 11:11:27</td>\n",
       "    </tr>\n",
       "    <tr>\n",
       "      <th>2</th>\n",
       "      <td>0000f46a3911fa3c0805444483337064</td>\n",
       "      <td>2017-03-10 21:05:03</td>\n",
       "      <td>1</td>\n",
       "      <td>2017-03-10 21:05:03</td>\n",
       "    </tr>\n",
       "    <tr>\n",
       "      <th>3</th>\n",
       "      <td>0000f6ccb0745a6a4b88665a16c9f078</td>\n",
       "      <td>2017-10-12 20:29:41</td>\n",
       "      <td>1</td>\n",
       "      <td>2017-10-12 20:29:41</td>\n",
       "    </tr>\n",
       "    <tr>\n",
       "      <th>4</th>\n",
       "      <td>0004aac84e0df4da2b147fca70cf8255</td>\n",
       "      <td>2017-11-14 19:45:42</td>\n",
       "      <td>1</td>\n",
       "      <td>2017-11-14 19:45:42</td>\n",
       "    </tr>\n",
       "    <tr>\n",
       "      <th>...</th>\n",
       "      <td>...</td>\n",
       "      <td>...</td>\n",
       "      <td>...</td>\n",
       "      <td>...</td>\n",
       "    </tr>\n",
       "    <tr>\n",
       "      <th>97869</th>\n",
       "      <td>fffcf5a5ff07b0908bd4e2dbc735a684</td>\n",
       "      <td>2017-06-08 21:00:36</td>\n",
       "      <td>2</td>\n",
       "      <td>2017-06-08 21:00:36</td>\n",
       "    </tr>\n",
       "    <tr>\n",
       "      <th>97870</th>\n",
       "      <td>fffea47cd6d3cc0a88bd621562a9d061</td>\n",
       "      <td>2017-12-10 20:07:56</td>\n",
       "      <td>1</td>\n",
       "      <td>2017-12-10 20:07:56</td>\n",
       "    </tr>\n",
       "    <tr>\n",
       "      <th>97871</th>\n",
       "      <td>ffff371b4d645b6ecea244b27531430a</td>\n",
       "      <td>2017-02-07 15:49:16</td>\n",
       "      <td>1</td>\n",
       "      <td>2017-02-07 15:49:16</td>\n",
       "    </tr>\n",
       "    <tr>\n",
       "      <th>97872</th>\n",
       "      <td>ffff5962728ec6157033ef9805bacc48</td>\n",
       "      <td>2018-05-02 15:17:41</td>\n",
       "      <td>1</td>\n",
       "      <td>2018-05-02 15:17:41</td>\n",
       "    </tr>\n",
       "    <tr>\n",
       "      <th>97873</th>\n",
       "      <td>ffffd2657e2aad2907e67c3e9daecbeb</td>\n",
       "      <td>2017-05-02 20:18:45</td>\n",
       "      <td>1</td>\n",
       "      <td>2017-05-02 20:18:45</td>\n",
       "    </tr>\n",
       "  </tbody>\n",
       "</table>\n",
       "<p>97874 rows × 4 columns</p>\n",
       "</div>"
      ],
      "text/plain": [
       "                     customer_unique_id order_purchase_timestamp  order_id  \\\n",
       "0      0000366f3b9a7992bf8c76cfdf3221e2      2018-05-10 10:56:27         1   \n",
       "1      0000b849f77a49e4a4ce2b2a4ca5be3f      2018-05-07 11:11:27         1   \n",
       "2      0000f46a3911fa3c0805444483337064      2017-03-10 21:05:03         1   \n",
       "3      0000f6ccb0745a6a4b88665a16c9f078      2017-10-12 20:29:41         1   \n",
       "4      0004aac84e0df4da2b147fca70cf8255      2017-11-14 19:45:42         1   \n",
       "...                                 ...                      ...       ...   \n",
       "97869  fffcf5a5ff07b0908bd4e2dbc735a684      2017-06-08 21:00:36         2   \n",
       "97870  fffea47cd6d3cc0a88bd621562a9d061      2017-12-10 20:07:56         1   \n",
       "97871  ffff371b4d645b6ecea244b27531430a      2017-02-07 15:49:16         1   \n",
       "97872  ffff5962728ec6157033ef9805bacc48      2018-05-02 15:17:41         1   \n",
       "97873  ffffd2657e2aad2907e67c3e9daecbeb      2017-05-02 20:18:45         1   \n",
       "\n",
       "                first_buy  \n",
       "0     2018-05-10 10:56:27  \n",
       "1     2018-05-07 11:11:27  \n",
       "2     2017-03-10 21:05:03  \n",
       "3     2017-10-12 20:29:41  \n",
       "4     2017-11-14 19:45:42  \n",
       "...                   ...  \n",
       "97869 2017-06-08 21:00:36  \n",
       "97870 2017-12-10 20:07:56  \n",
       "97871 2017-02-07 15:49:16  \n",
       "97872 2018-05-02 15:17:41  \n",
       "97873 2017-05-02 20:18:45  \n",
       "\n",
       "[97874 rows x 4 columns]"
      ]
     },
     "execution_count": 602,
     "metadata": {},
     "output_type": "execute_result"
    }
   ],
   "source": [
    "normal_df"
   ]
  },
  {
   "cell_type": "markdown",
   "metadata": {},
   "source": [
    "#####                         приводим колонки с датой в нужный нам формат"
   ]
  },
  {
   "cell_type": "code",
   "execution_count": 603,
   "metadata": {},
   "outputs": [],
   "source": [
    "normal_df['order_purchase_timestamp']= pd.to_datetime(normal_df['order_purchase_timestamp'])"
   ]
  },
  {
   "cell_type": "code",
   "execution_count": 604,
   "metadata": {},
   "outputs": [],
   "source": [
    "normal_df['first_buy']= pd.to_datetime(normal_df['first_buy'])"
   ]
  },
  {
   "cell_type": "code",
   "execution_count": 605,
   "metadata": {},
   "outputs": [],
   "source": [
    "normal_df['first_buy'] = normal_df['first_buy'].dt.strftime('%Y-%m')"
   ]
  },
  {
   "cell_type": "code",
   "execution_count": 606,
   "metadata": {},
   "outputs": [],
   "source": [
    "normal_df['order_purchase_timestamp'] = normal_df['order_purchase_timestamp'].dt.strftime('%Y-%m')"
   ]
  },
  {
   "cell_type": "markdown",
   "metadata": {},
   "source": [
    "#####                         группируем и считаем кол-во id заказов и уникальных id"
   ]
  },
  {
   "cell_type": "code",
   "execution_count": 607,
   "metadata": {},
   "outputs": [],
   "source": [
    "orderid_count = normal_df.groupby(['first_buy', 'order_purchase_timestamp', \"customer_unique_id\"], \\\n",
    "                                  as_index = False) \\\n",
    "               .agg({'order_id': 'count'}) "
   ]
  },
  {
   "cell_type": "code",
   "execution_count": 608,
   "metadata": {},
   "outputs": [
    {
     "data": {
      "text/html": [
       "<div>\n",
       "<style scoped>\n",
       "    .dataframe tbody tr th:only-of-type {\n",
       "        vertical-align: middle;\n",
       "    }\n",
       "\n",
       "    .dataframe tbody tr th {\n",
       "        vertical-align: top;\n",
       "    }\n",
       "\n",
       "    .dataframe thead th {\n",
       "        text-align: right;\n",
       "    }\n",
       "</style>\n",
       "<table border=\"1\" class=\"dataframe\">\n",
       "  <thead>\n",
       "    <tr style=\"text-align: right;\">\n",
       "      <th></th>\n",
       "      <th>first_buy</th>\n",
       "      <th>order_purchase_timestamp</th>\n",
       "      <th>customer_unique_id</th>\n",
       "      <th>order_id</th>\n",
       "    </tr>\n",
       "  </thead>\n",
       "  <tbody>\n",
       "    <tr>\n",
       "      <th>0</th>\n",
       "      <td>2016-09</td>\n",
       "      <td>2016-09</td>\n",
       "      <td>830d5b7aaa3b6f1e9ad63703bec97d23</td>\n",
       "      <td>1</td>\n",
       "    </tr>\n",
       "    <tr>\n",
       "      <th>1</th>\n",
       "      <td>2016-09</td>\n",
       "      <td>2016-09</td>\n",
       "      <td>b7d76e111c89f7ebf14761390f0f7d17</td>\n",
       "      <td>1</td>\n",
       "    </tr>\n",
       "    <tr>\n",
       "      <th>2</th>\n",
       "      <td>2016-10</td>\n",
       "      <td>2016-10</td>\n",
       "      <td>0032c76b20340da25249092a268ce66c</td>\n",
       "      <td>1</td>\n",
       "    </tr>\n",
       "    <tr>\n",
       "      <th>3</th>\n",
       "      <td>2016-10</td>\n",
       "      <td>2016-10</td>\n",
       "      <td>01f156677184504063bd19739f924af1</td>\n",
       "      <td>1</td>\n",
       "    </tr>\n",
       "    <tr>\n",
       "      <th>4</th>\n",
       "      <td>2016-10</td>\n",
       "      <td>2016-10</td>\n",
       "      <td>0313291a6f4f16df04dcf819d88c38ef</td>\n",
       "      <td>1</td>\n",
       "    </tr>\n",
       "    <tr>\n",
       "      <th>...</th>\n",
       "      <td>...</td>\n",
       "      <td>...</td>\n",
       "      <td>...</td>\n",
       "      <td>...</td>\n",
       "    </tr>\n",
       "    <tr>\n",
       "      <th>96542</th>\n",
       "      <td>2018-08</td>\n",
       "      <td>2018-08</td>\n",
       "      <td>ffc4e1cd8aa220763480d0a18157c45d</td>\n",
       "      <td>1</td>\n",
       "    </tr>\n",
       "    <tr>\n",
       "      <th>96543</th>\n",
       "      <td>2018-08</td>\n",
       "      <td>2018-08</td>\n",
       "      <td>ffe204b1bb8026741b839085b2fd10f2</td>\n",
       "      <td>1</td>\n",
       "    </tr>\n",
       "    <tr>\n",
       "      <th>96544</th>\n",
       "      <td>2018-08</td>\n",
       "      <td>2018-08</td>\n",
       "      <td>ffec490ab531184a483efe2eedd68908</td>\n",
       "      <td>1</td>\n",
       "    </tr>\n",
       "    <tr>\n",
       "      <th>96545</th>\n",
       "      <td>2018-08</td>\n",
       "      <td>2018-08</td>\n",
       "      <td>fff96bc586f78b1f070da28c4977e810</td>\n",
       "      <td>1</td>\n",
       "    </tr>\n",
       "    <tr>\n",
       "      <th>96546</th>\n",
       "      <td>2018-08</td>\n",
       "      <td>2018-09</td>\n",
       "      <td>ff22e30958c13ffe219db7d711e8f564</td>\n",
       "      <td>1</td>\n",
       "    </tr>\n",
       "  </tbody>\n",
       "</table>\n",
       "<p>96547 rows × 4 columns</p>\n",
       "</div>"
      ],
      "text/plain": [
       "      first_buy order_purchase_timestamp                customer_unique_id  \\\n",
       "0       2016-09                  2016-09  830d5b7aaa3b6f1e9ad63703bec97d23   \n",
       "1       2016-09                  2016-09  b7d76e111c89f7ebf14761390f0f7d17   \n",
       "2       2016-10                  2016-10  0032c76b20340da25249092a268ce66c   \n",
       "3       2016-10                  2016-10  01f156677184504063bd19739f924af1   \n",
       "4       2016-10                  2016-10  0313291a6f4f16df04dcf819d88c38ef   \n",
       "...         ...                      ...                               ...   \n",
       "96542   2018-08                  2018-08  ffc4e1cd8aa220763480d0a18157c45d   \n",
       "96543   2018-08                  2018-08  ffe204b1bb8026741b839085b2fd10f2   \n",
       "96544   2018-08                  2018-08  ffec490ab531184a483efe2eedd68908   \n",
       "96545   2018-08                  2018-08  fff96bc586f78b1f070da28c4977e810   \n",
       "96546   2018-08                  2018-09  ff22e30958c13ffe219db7d711e8f564   \n",
       "\n",
       "       order_id  \n",
       "0             1  \n",
       "1             1  \n",
       "2             1  \n",
       "3             1  \n",
       "4             1  \n",
       "...         ...  \n",
       "96542         1  \n",
       "96543         1  \n",
       "96544         1  \n",
       "96545         1  \n",
       "96546         1  \n",
       "\n",
       "[96547 rows x 4 columns]"
      ]
     },
     "execution_count": 608,
     "metadata": {},
     "output_type": "execute_result"
    }
   ],
   "source": [
    "orderid_count"
   ]
  },
  {
   "cell_type": "code",
   "execution_count": 609,
   "metadata": {},
   "outputs": [],
   "source": [
    "unique_id = orderid_count.groupby(['first_buy', 'order_purchase_timestamp'], as_index = False) \\\n",
    "                  .agg({'customer_unique_id': 'count'})"
   ]
  },
  {
   "cell_type": "code",
   "execution_count": 610,
   "metadata": {},
   "outputs": [
    {
     "data": {
      "text/html": [
       "<div>\n",
       "<style scoped>\n",
       "    .dataframe tbody tr th:only-of-type {\n",
       "        vertical-align: middle;\n",
       "    }\n",
       "\n",
       "    .dataframe tbody tr th {\n",
       "        vertical-align: top;\n",
       "    }\n",
       "\n",
       "    .dataframe thead th {\n",
       "        text-align: right;\n",
       "    }\n",
       "</style>\n",
       "<table border=\"1\" class=\"dataframe\">\n",
       "  <thead>\n",
       "    <tr style=\"text-align: right;\">\n",
       "      <th></th>\n",
       "      <th>first_buy</th>\n",
       "      <th>order_purchase_timestamp</th>\n",
       "      <th>customer_unique_id</th>\n",
       "    </tr>\n",
       "  </thead>\n",
       "  <tbody>\n",
       "    <tr>\n",
       "      <th>0</th>\n",
       "      <td>2016-09</td>\n",
       "      <td>2016-09</td>\n",
       "      <td>2</td>\n",
       "    </tr>\n",
       "    <tr>\n",
       "      <th>1</th>\n",
       "      <td>2016-10</td>\n",
       "      <td>2016-10</td>\n",
       "      <td>272</td>\n",
       "    </tr>\n",
       "    <tr>\n",
       "      <th>2</th>\n",
       "      <td>2016-10</td>\n",
       "      <td>2017-04</td>\n",
       "      <td>1</td>\n",
       "    </tr>\n",
       "    <tr>\n",
       "      <th>3</th>\n",
       "      <td>2016-10</td>\n",
       "      <td>2017-07</td>\n",
       "      <td>1</td>\n",
       "    </tr>\n",
       "    <tr>\n",
       "      <th>4</th>\n",
       "      <td>2016-10</td>\n",
       "      <td>2017-09</td>\n",
       "      <td>1</td>\n",
       "    </tr>\n",
       "    <tr>\n",
       "      <th>...</th>\n",
       "      <td>...</td>\n",
       "      <td>...</td>\n",
       "      <td>...</td>\n",
       "    </tr>\n",
       "    <tr>\n",
       "      <th>215</th>\n",
       "      <td>2018-06</td>\n",
       "      <td>2018-08</td>\n",
       "      <td>16</td>\n",
       "    </tr>\n",
       "    <tr>\n",
       "      <th>216</th>\n",
       "      <td>2018-07</td>\n",
       "      <td>2018-07</td>\n",
       "      <td>6004</td>\n",
       "    </tr>\n",
       "    <tr>\n",
       "      <th>217</th>\n",
       "      <td>2018-07</td>\n",
       "      <td>2018-08</td>\n",
       "      <td>31</td>\n",
       "    </tr>\n",
       "    <tr>\n",
       "      <th>218</th>\n",
       "      <td>2018-08</td>\n",
       "      <td>2018-08</td>\n",
       "      <td>6187</td>\n",
       "    </tr>\n",
       "    <tr>\n",
       "      <th>219</th>\n",
       "      <td>2018-08</td>\n",
       "      <td>2018-09</td>\n",
       "      <td>1</td>\n",
       "    </tr>\n",
       "  </tbody>\n",
       "</table>\n",
       "<p>220 rows × 3 columns</p>\n",
       "</div>"
      ],
      "text/plain": [
       "    first_buy order_purchase_timestamp  customer_unique_id\n",
       "0     2016-09                  2016-09                   2\n",
       "1     2016-10                  2016-10                 272\n",
       "2     2016-10                  2017-04                   1\n",
       "3     2016-10                  2017-07                   1\n",
       "4     2016-10                  2017-09                   1\n",
       "..        ...                      ...                 ...\n",
       "215   2018-06                  2018-08                  16\n",
       "216   2018-07                  2018-07                6004\n",
       "217   2018-07                  2018-08                  31\n",
       "218   2018-08                  2018-08                6187\n",
       "219   2018-08                  2018-09                   1\n",
       "\n",
       "[220 rows x 3 columns]"
      ]
     },
     "execution_count": 610,
     "metadata": {},
     "output_type": "execute_result"
    }
   ],
   "source": [
    "unique_id"
   ]
  },
  {
   "cell_type": "code",
   "execution_count": 611,
   "metadata": {},
   "outputs": [],
   "source": [
    "chrt_id = unique_id.groupby('first_buy', as_index = False) \\\n",
    "                .agg({'customer_unique_id': 'max'})"
   ]
  },
  {
   "cell_type": "code",
   "execution_count": 612,
   "metadata": {},
   "outputs": [],
   "source": [
    "unique_id = pd.merge(unique_id, chrt_id, on=('first_buy'), how='left')"
   ]
  },
  {
   "cell_type": "code",
   "execution_count": 613,
   "metadata": {},
   "outputs": [],
   "source": [
    "unique_id['retention'] = unique_id['customer_unique_id_x'] / unique_id['customer_unique_id_y']"
   ]
  },
  {
   "cell_type": "markdown",
   "metadata": {},
   "source": [
    "#####                                       ОТВЕТ НА ВОПРОС №5\n",
    "#####                                     \n",
    "#####                     готовим df с когортами по дате первого заказа + клиенты"
   ]
  },
  {
   "cell_type": "code",
   "execution_count": 614,
   "metadata": {},
   "outputs": [],
   "source": [
    "chrt = unique_id.pivot_table(index = 'first_buy',columns = 'order_purchase_timestamp',values = 'retention')"
   ]
  },
  {
   "cell_type": "code",
   "execution_count": 615,
   "metadata": {},
   "outputs": [],
   "source": [
    "chrt = chrt.query(\"'2017-01' <= first_buy <= '2017-12'\")"
   ]
  },
  {
   "cell_type": "code",
   "execution_count": 642,
   "metadata": {},
   "outputs": [
    {
     "data": {
      "text/html": [
       "<div>\n",
       "<style scoped>\n",
       "    .dataframe tbody tr th:only-of-type {\n",
       "        vertical-align: middle;\n",
       "    }\n",
       "\n",
       "    .dataframe tbody tr th {\n",
       "        vertical-align: top;\n",
       "    }\n",
       "\n",
       "    .dataframe thead th {\n",
       "        text-align: right;\n",
       "    }\n",
       "</style>\n",
       "<table border=\"1\" class=\"dataframe\">\n",
       "  <thead>\n",
       "    <tr style=\"text-align: right;\">\n",
       "      <th>order_purchase_timestamp</th>\n",
       "      <th>2016-09</th>\n",
       "      <th>2016-10</th>\n",
       "      <th>2016-12</th>\n",
       "      <th>2017-01</th>\n",
       "      <th>2017-02</th>\n",
       "      <th>2017-03</th>\n",
       "      <th>2017-04</th>\n",
       "      <th>2017-05</th>\n",
       "      <th>2017-06</th>\n",
       "      <th>2017-07</th>\n",
       "      <th>2017-08</th>\n",
       "      <th>2017-09</th>\n",
       "      <th>2017-10</th>\n",
       "      <th>2017-11</th>\n",
       "      <th>2017-12</th>\n",
       "      <th>2018-01</th>\n",
       "      <th>2018-02</th>\n",
       "      <th>2018-03</th>\n",
       "      <th>2018-04</th>\n",
       "      <th>2018-05</th>\n",
       "      <th>2018-06</th>\n",
       "      <th>2018-07</th>\n",
       "      <th>2018-08</th>\n",
       "      <th>2018-09</th>\n",
       "    </tr>\n",
       "    <tr>\n",
       "      <th>first_buy</th>\n",
       "      <th></th>\n",
       "      <th></th>\n",
       "      <th></th>\n",
       "      <th></th>\n",
       "      <th></th>\n",
       "      <th></th>\n",
       "      <th></th>\n",
       "      <th></th>\n",
       "      <th></th>\n",
       "      <th></th>\n",
       "      <th></th>\n",
       "      <th></th>\n",
       "      <th></th>\n",
       "      <th></th>\n",
       "      <th></th>\n",
       "      <th></th>\n",
       "      <th></th>\n",
       "      <th></th>\n",
       "      <th></th>\n",
       "      <th></th>\n",
       "      <th></th>\n",
       "      <th></th>\n",
       "      <th></th>\n",
       "      <th></th>\n",
       "    </tr>\n",
       "  </thead>\n",
       "  <tbody>\n",
       "    <tr>\n",
       "      <th>2017-01</th>\n",
       "      <td>NaN</td>\n",
       "      <td>NaN</td>\n",
       "      <td>NaN</td>\n",
       "      <td>1.0</td>\n",
       "      <td>0.004065</td>\n",
       "      <td>0.00271</td>\n",
       "      <td>0.001355</td>\n",
       "      <td>0.004065</td>\n",
       "      <td>0.001355</td>\n",
       "      <td>0.004065</td>\n",
       "      <td>0.001355</td>\n",
       "      <td>0.001355</td>\n",
       "      <td>NaN</td>\n",
       "      <td>0.004065</td>\n",
       "      <td>0.001355</td>\n",
       "      <td>0.006775</td>\n",
       "      <td>0.004065</td>\n",
       "      <td>0.001355</td>\n",
       "      <td>0.001355</td>\n",
       "      <td>0.002710</td>\n",
       "      <td>0.004065</td>\n",
       "      <td>NaN</td>\n",
       "      <td>0.001355</td>\n",
       "      <td>NaN</td>\n",
       "    </tr>\n",
       "    <tr>\n",
       "      <th>2017-02</th>\n",
       "      <td>NaN</td>\n",
       "      <td>NaN</td>\n",
       "      <td>NaN</td>\n",
       "      <td>NaN</td>\n",
       "      <td>1.000000</td>\n",
       "      <td>0.00240</td>\n",
       "      <td>0.002999</td>\n",
       "      <td>0.001200</td>\n",
       "      <td>0.004199</td>\n",
       "      <td>0.001200</td>\n",
       "      <td>0.002400</td>\n",
       "      <td>0.001800</td>\n",
       "      <td>0.000600</td>\n",
       "      <td>0.001800</td>\n",
       "      <td>0.001200</td>\n",
       "      <td>0.002999</td>\n",
       "      <td>0.001200</td>\n",
       "      <td>0.001800</td>\n",
       "      <td>0.001200</td>\n",
       "      <td>0.000600</td>\n",
       "      <td>0.000600</td>\n",
       "      <td>0.002400</td>\n",
       "      <td>NaN</td>\n",
       "      <td>NaN</td>\n",
       "    </tr>\n",
       "    <tr>\n",
       "      <th>2017-03</th>\n",
       "      <td>NaN</td>\n",
       "      <td>NaN</td>\n",
       "      <td>NaN</td>\n",
       "      <td>NaN</td>\n",
       "      <td>NaN</td>\n",
       "      <td>1.00000</td>\n",
       "      <td>0.005062</td>\n",
       "      <td>0.003505</td>\n",
       "      <td>0.003894</td>\n",
       "      <td>0.003505</td>\n",
       "      <td>0.001558</td>\n",
       "      <td>0.001558</td>\n",
       "      <td>0.003115</td>\n",
       "      <td>0.003505</td>\n",
       "      <td>0.000779</td>\n",
       "      <td>0.003505</td>\n",
       "      <td>0.001168</td>\n",
       "      <td>0.002336</td>\n",
       "      <td>0.001168</td>\n",
       "      <td>0.001558</td>\n",
       "      <td>0.002336</td>\n",
       "      <td>0.000779</td>\n",
       "      <td>0.001558</td>\n",
       "      <td>NaN</td>\n",
       "    </tr>\n",
       "    <tr>\n",
       "      <th>2017-04</th>\n",
       "      <td>NaN</td>\n",
       "      <td>NaN</td>\n",
       "      <td>NaN</td>\n",
       "      <td>NaN</td>\n",
       "      <td>NaN</td>\n",
       "      <td>NaN</td>\n",
       "      <td>1.000000</td>\n",
       "      <td>0.006058</td>\n",
       "      <td>0.002164</td>\n",
       "      <td>0.001731</td>\n",
       "      <td>0.003029</td>\n",
       "      <td>0.002596</td>\n",
       "      <td>0.003462</td>\n",
       "      <td>0.003029</td>\n",
       "      <td>0.003029</td>\n",
       "      <td>0.001731</td>\n",
       "      <td>0.002596</td>\n",
       "      <td>0.000865</td>\n",
       "      <td>0.000433</td>\n",
       "      <td>0.000433</td>\n",
       "      <td>0.000865</td>\n",
       "      <td>0.000865</td>\n",
       "      <td>0.001298</td>\n",
       "      <td>NaN</td>\n",
       "    </tr>\n",
       "    <tr>\n",
       "      <th>2017-05</th>\n",
       "      <td>NaN</td>\n",
       "      <td>NaN</td>\n",
       "      <td>NaN</td>\n",
       "      <td>NaN</td>\n",
       "      <td>NaN</td>\n",
       "      <td>NaN</td>\n",
       "      <td>NaN</td>\n",
       "      <td>1.000000</td>\n",
       "      <td>0.004823</td>\n",
       "      <td>0.004823</td>\n",
       "      <td>0.003972</td>\n",
       "      <td>0.003121</td>\n",
       "      <td>0.003404</td>\n",
       "      <td>0.004255</td>\n",
       "      <td>0.001418</td>\n",
       "      <td>0.002553</td>\n",
       "      <td>0.002553</td>\n",
       "      <td>0.002553</td>\n",
       "      <td>0.003404</td>\n",
       "      <td>0.002553</td>\n",
       "      <td>0.000284</td>\n",
       "      <td>0.001986</td>\n",
       "      <td>0.002270</td>\n",
       "      <td>NaN</td>\n",
       "    </tr>\n",
       "    <tr>\n",
       "      <th>2017-06</th>\n",
       "      <td>NaN</td>\n",
       "      <td>NaN</td>\n",
       "      <td>NaN</td>\n",
       "      <td>NaN</td>\n",
       "      <td>NaN</td>\n",
       "      <td>NaN</td>\n",
       "      <td>NaN</td>\n",
       "      <td>NaN</td>\n",
       "      <td>1.000000</td>\n",
       "      <td>0.004525</td>\n",
       "      <td>0.003555</td>\n",
       "      <td>0.003878</td>\n",
       "      <td>0.002586</td>\n",
       "      <td>0.003555</td>\n",
       "      <td>0.003555</td>\n",
       "      <td>0.002262</td>\n",
       "      <td>0.001293</td>\n",
       "      <td>0.002262</td>\n",
       "      <td>0.003232</td>\n",
       "      <td>0.003232</td>\n",
       "      <td>0.001616</td>\n",
       "      <td>0.001293</td>\n",
       "      <td>0.001939</td>\n",
       "      <td>NaN</td>\n",
       "    </tr>\n",
       "    <tr>\n",
       "      <th>2017-07</th>\n",
       "      <td>NaN</td>\n",
       "      <td>NaN</td>\n",
       "      <td>NaN</td>\n",
       "      <td>NaN</td>\n",
       "      <td>NaN</td>\n",
       "      <td>NaN</td>\n",
       "      <td>NaN</td>\n",
       "      <td>NaN</td>\n",
       "      <td>NaN</td>\n",
       "      <td>1.000000</td>\n",
       "      <td>0.005242</td>\n",
       "      <td>0.003408</td>\n",
       "      <td>0.002359</td>\n",
       "      <td>0.002883</td>\n",
       "      <td>0.002097</td>\n",
       "      <td>0.003145</td>\n",
       "      <td>0.001048</td>\n",
       "      <td>0.001835</td>\n",
       "      <td>0.002621</td>\n",
       "      <td>0.002097</td>\n",
       "      <td>0.002883</td>\n",
       "      <td>0.001311</td>\n",
       "      <td>0.002621</td>\n",
       "      <td>NaN</td>\n",
       "    </tr>\n",
       "    <tr>\n",
       "      <th>2017-08</th>\n",
       "      <td>NaN</td>\n",
       "      <td>NaN</td>\n",
       "      <td>NaN</td>\n",
       "      <td>NaN</td>\n",
       "      <td>NaN</td>\n",
       "      <td>NaN</td>\n",
       "      <td>NaN</td>\n",
       "      <td>NaN</td>\n",
       "      <td>NaN</td>\n",
       "      <td>NaN</td>\n",
       "      <td>1.000000</td>\n",
       "      <td>0.006809</td>\n",
       "      <td>0.003405</td>\n",
       "      <td>0.002675</td>\n",
       "      <td>0.003648</td>\n",
       "      <td>0.005350</td>\n",
       "      <td>0.002918</td>\n",
       "      <td>0.002675</td>\n",
       "      <td>0.001459</td>\n",
       "      <td>0.001459</td>\n",
       "      <td>0.002432</td>\n",
       "      <td>0.001946</td>\n",
       "      <td>0.001216</td>\n",
       "      <td>NaN</td>\n",
       "    </tr>\n",
       "    <tr>\n",
       "      <th>2017-09</th>\n",
       "      <td>NaN</td>\n",
       "      <td>NaN</td>\n",
       "      <td>NaN</td>\n",
       "      <td>NaN</td>\n",
       "      <td>NaN</td>\n",
       "      <td>NaN</td>\n",
       "      <td>NaN</td>\n",
       "      <td>NaN</td>\n",
       "      <td>NaN</td>\n",
       "      <td>NaN</td>\n",
       "      <td>NaN</td>\n",
       "      <td>1.000000</td>\n",
       "      <td>0.006897</td>\n",
       "      <td>0.005419</td>\n",
       "      <td>0.002956</td>\n",
       "      <td>0.004433</td>\n",
       "      <td>0.002217</td>\n",
       "      <td>0.002217</td>\n",
       "      <td>0.002463</td>\n",
       "      <td>0.002956</td>\n",
       "      <td>0.001724</td>\n",
       "      <td>0.002709</td>\n",
       "      <td>0.000739</td>\n",
       "      <td>NaN</td>\n",
       "    </tr>\n",
       "    <tr>\n",
       "      <th>2017-10</th>\n",
       "      <td>NaN</td>\n",
       "      <td>NaN</td>\n",
       "      <td>NaN</td>\n",
       "      <td>NaN</td>\n",
       "      <td>NaN</td>\n",
       "      <td>NaN</td>\n",
       "      <td>NaN</td>\n",
       "      <td>NaN</td>\n",
       "      <td>NaN</td>\n",
       "      <td>NaN</td>\n",
       "      <td>NaN</td>\n",
       "      <td>NaN</td>\n",
       "      <td>1.000000</td>\n",
       "      <td>0.007079</td>\n",
       "      <td>0.002512</td>\n",
       "      <td>0.000913</td>\n",
       "      <td>0.002284</td>\n",
       "      <td>0.002055</td>\n",
       "      <td>0.002055</td>\n",
       "      <td>0.003654</td>\n",
       "      <td>0.002740</td>\n",
       "      <td>0.002055</td>\n",
       "      <td>0.002055</td>\n",
       "      <td>NaN</td>\n",
       "    </tr>\n",
       "    <tr>\n",
       "      <th>2017-11</th>\n",
       "      <td>NaN</td>\n",
       "      <td>NaN</td>\n",
       "      <td>NaN</td>\n",
       "      <td>NaN</td>\n",
       "      <td>NaN</td>\n",
       "      <td>NaN</td>\n",
       "      <td>NaN</td>\n",
       "      <td>NaN</td>\n",
       "      <td>NaN</td>\n",
       "      <td>NaN</td>\n",
       "      <td>NaN</td>\n",
       "      <td>NaN</td>\n",
       "      <td>NaN</td>\n",
       "      <td>1.000000</td>\n",
       "      <td>0.005590</td>\n",
       "      <td>0.003913</td>\n",
       "      <td>0.001677</td>\n",
       "      <td>0.001957</td>\n",
       "      <td>0.001817</td>\n",
       "      <td>0.001118</td>\n",
       "      <td>0.001957</td>\n",
       "      <td>0.001258</td>\n",
       "      <td>0.000559</td>\n",
       "      <td>NaN</td>\n",
       "    </tr>\n",
       "    <tr>\n",
       "      <th>2017-12</th>\n",
       "      <td>NaN</td>\n",
       "      <td>NaN</td>\n",
       "      <td>NaN</td>\n",
       "      <td>NaN</td>\n",
       "      <td>NaN</td>\n",
       "      <td>NaN</td>\n",
       "      <td>NaN</td>\n",
       "      <td>NaN</td>\n",
       "      <td>NaN</td>\n",
       "      <td>NaN</td>\n",
       "      <td>NaN</td>\n",
       "      <td>NaN</td>\n",
       "      <td>NaN</td>\n",
       "      <td>NaN</td>\n",
       "      <td>1.000000</td>\n",
       "      <td>0.002212</td>\n",
       "      <td>0.002765</td>\n",
       "      <td>0.003319</td>\n",
       "      <td>0.002581</td>\n",
       "      <td>0.002028</td>\n",
       "      <td>0.001659</td>\n",
       "      <td>0.000184</td>\n",
       "      <td>0.002028</td>\n",
       "      <td>NaN</td>\n",
       "    </tr>\n",
       "  </tbody>\n",
       "</table>\n",
       "</div>"
      ],
      "text/plain": [
       "order_purchase_timestamp  2016-09  2016-10  2016-12  2017-01   2017-02  \\\n",
       "first_buy                                                                \n",
       "2017-01                       NaN      NaN      NaN      1.0  0.004065   \n",
       "2017-02                       NaN      NaN      NaN      NaN  1.000000   \n",
       "2017-03                       NaN      NaN      NaN      NaN       NaN   \n",
       "2017-04                       NaN      NaN      NaN      NaN       NaN   \n",
       "2017-05                       NaN      NaN      NaN      NaN       NaN   \n",
       "2017-06                       NaN      NaN      NaN      NaN       NaN   \n",
       "2017-07                       NaN      NaN      NaN      NaN       NaN   \n",
       "2017-08                       NaN      NaN      NaN      NaN       NaN   \n",
       "2017-09                       NaN      NaN      NaN      NaN       NaN   \n",
       "2017-10                       NaN      NaN      NaN      NaN       NaN   \n",
       "2017-11                       NaN      NaN      NaN      NaN       NaN   \n",
       "2017-12                       NaN      NaN      NaN      NaN       NaN   \n",
       "\n",
       "order_purchase_timestamp  2017-03   2017-04   2017-05   2017-06   2017-07  \\\n",
       "first_buy                                                                   \n",
       "2017-01                   0.00271  0.001355  0.004065  0.001355  0.004065   \n",
       "2017-02                   0.00240  0.002999  0.001200  0.004199  0.001200   \n",
       "2017-03                   1.00000  0.005062  0.003505  0.003894  0.003505   \n",
       "2017-04                       NaN  1.000000  0.006058  0.002164  0.001731   \n",
       "2017-05                       NaN       NaN  1.000000  0.004823  0.004823   \n",
       "2017-06                       NaN       NaN       NaN  1.000000  0.004525   \n",
       "2017-07                       NaN       NaN       NaN       NaN  1.000000   \n",
       "2017-08                       NaN       NaN       NaN       NaN       NaN   \n",
       "2017-09                       NaN       NaN       NaN       NaN       NaN   \n",
       "2017-10                       NaN       NaN       NaN       NaN       NaN   \n",
       "2017-11                       NaN       NaN       NaN       NaN       NaN   \n",
       "2017-12                       NaN       NaN       NaN       NaN       NaN   \n",
       "\n",
       "order_purchase_timestamp   2017-08   2017-09   2017-10   2017-11   2017-12  \\\n",
       "first_buy                                                                    \n",
       "2017-01                   0.001355  0.001355       NaN  0.004065  0.001355   \n",
       "2017-02                   0.002400  0.001800  0.000600  0.001800  0.001200   \n",
       "2017-03                   0.001558  0.001558  0.003115  0.003505  0.000779   \n",
       "2017-04                   0.003029  0.002596  0.003462  0.003029  0.003029   \n",
       "2017-05                   0.003972  0.003121  0.003404  0.004255  0.001418   \n",
       "2017-06                   0.003555  0.003878  0.002586  0.003555  0.003555   \n",
       "2017-07                   0.005242  0.003408  0.002359  0.002883  0.002097   \n",
       "2017-08                   1.000000  0.006809  0.003405  0.002675  0.003648   \n",
       "2017-09                        NaN  1.000000  0.006897  0.005419  0.002956   \n",
       "2017-10                        NaN       NaN  1.000000  0.007079  0.002512   \n",
       "2017-11                        NaN       NaN       NaN  1.000000  0.005590   \n",
       "2017-12                        NaN       NaN       NaN       NaN  1.000000   \n",
       "\n",
       "order_purchase_timestamp   2018-01   2018-02   2018-03   2018-04   2018-05  \\\n",
       "first_buy                                                                    \n",
       "2017-01                   0.006775  0.004065  0.001355  0.001355  0.002710   \n",
       "2017-02                   0.002999  0.001200  0.001800  0.001200  0.000600   \n",
       "2017-03                   0.003505  0.001168  0.002336  0.001168  0.001558   \n",
       "2017-04                   0.001731  0.002596  0.000865  0.000433  0.000433   \n",
       "2017-05                   0.002553  0.002553  0.002553  0.003404  0.002553   \n",
       "2017-06                   0.002262  0.001293  0.002262  0.003232  0.003232   \n",
       "2017-07                   0.003145  0.001048  0.001835  0.002621  0.002097   \n",
       "2017-08                   0.005350  0.002918  0.002675  0.001459  0.001459   \n",
       "2017-09                   0.004433  0.002217  0.002217  0.002463  0.002956   \n",
       "2017-10                   0.000913  0.002284  0.002055  0.002055  0.003654   \n",
       "2017-11                   0.003913  0.001677  0.001957  0.001817  0.001118   \n",
       "2017-12                   0.002212  0.002765  0.003319  0.002581  0.002028   \n",
       "\n",
       "order_purchase_timestamp   2018-06   2018-07   2018-08  2018-09  \n",
       "first_buy                                                        \n",
       "2017-01                   0.004065       NaN  0.001355      NaN  \n",
       "2017-02                   0.000600  0.002400       NaN      NaN  \n",
       "2017-03                   0.002336  0.000779  0.001558      NaN  \n",
       "2017-04                   0.000865  0.000865  0.001298      NaN  \n",
       "2017-05                   0.000284  0.001986  0.002270      NaN  \n",
       "2017-06                   0.001616  0.001293  0.001939      NaN  \n",
       "2017-07                   0.002883  0.001311  0.002621      NaN  \n",
       "2017-08                   0.002432  0.001946  0.001216      NaN  \n",
       "2017-09                   0.001724  0.002709  0.000739      NaN  \n",
       "2017-10                   0.002740  0.002055  0.002055      NaN  \n",
       "2017-11                   0.001957  0.001258  0.000559      NaN  \n",
       "2017-12                   0.001659  0.000184  0.002028      NaN  "
      ]
     },
     "execution_count": 642,
     "metadata": {},
     "output_type": "execute_result"
    }
   ],
   "source": [
    "chrt"
   ]
  },
  {
   "cell_type": "code",
   "execution_count": 616,
   "metadata": {},
   "outputs": [],
   "source": [
    "pd.set_option('max_columns', None)"
   ]
  },
  {
   "cell_type": "code",
   "execution_count": 618,
   "metadata": {},
   "outputs": [
    {
     "data": {
      "text/plain": [
       "<matplotlib.axes._subplots.AxesSubplot at 0x7eff2aa9a358>"
      ]
     },
     "execution_count": 618,
     "metadata": {},
     "output_type": "execute_result"
    },
    {
     "data": {
      "image/png": "[encoded data removed]",
      "text/plain": [
       "<Figure size 1224x504 with 2 Axes>"
      ]
     },
     "metadata": {},
     "output_type": "display_data"
    }
   ],
   "source": [
    "sns.set(rc={\"figure.figsize\": (17, 7)})\n",
    "sns.heatmap(chrt, vmin=0.0000010, vmax = 0.0062)"
   ]
  },
  {
   "cell_type": "markdown",
   "metadata": {},
   "source": [
    "\n",
    "##### ОТВЕТ(2017-05, 0.003972)"
   ]
  },
  {
   "cell_type": "markdown",
   "metadata": {},
   "source": [
    "# _____"
   ]
  },
  {
   "cell_type": "markdown",
   "metadata": {},
   "source": [
    "#####        6. Часто для качественного анализа аудитории используют подходы, основанные на сегментации.\n",
    "##### Используя python, построй RFM-сегментацию пользователей, чтобы качественно оценить свою аудиторию.\n",
    "##### В кластеризации можешь выбрать следующие метрики: \n",
    "##### R - время от последней покупки пользователя до текущей даты, \n",
    "##### F - суммарное количество покупок у пользователя за всё время, \n",
    "##### M - сумма покупок за всё время.\n",
    "##### Подробно опиши, как ты создавал кластеры. Для каждого RFM-сегмента построй границы метрик recency, frequency и monetary для интерпретации этих кластеров. \n",
    "##### Пример такого описания: RFM-сегмент 132 (recency=1, frequency=3, monetary=2) имеет границы метрик recency от 130 до 500 дней, frequency от 2 до 5 заказов в неделю, monetary от 1780 до 3560 рублей в неделю.\n",
    "##### R (Recency) — насколько давно клиент сделал последний заказ.\n",
    "##### F (Frequency) — сколько всего заказов сделал клиент.\n",
    "##### M (Monetary) — сколько денег клиент потратил"
   ]
  },
  {
   "cell_type": "markdown",
   "metadata": {},
   "source": [
    "#####  Готовим df для работы (оставляем нужные столбцы, удаляем строки с Nan (всего одна строка), убраем из даты время для удоства, присваиваем переменной last_order_date дату последнего совершенного заказа из нашего df (2018-09-03)"
   ]
  },
  {
   "cell_type": "code",
   "execution_count": 619,
   "metadata": {},
   "outputs": [],
   "source": [
    "last_order_date = full_df_purchase.order_purchase_timestamp.max()"
   ]
  },
  {
   "cell_type": "code",
   "execution_count": 620,
   "metadata": {},
   "outputs": [
    {
     "data": {
      "text/plain": [
       "customer_id                              object\n",
       "customer_unique_id                       object\n",
       "customer_zip_code_prefix                  int64\n",
       "customer_city                            object\n",
       "customer_state                           object\n",
       "order_id                                 object\n",
       "order_status                             object\n",
       "order_purchase_timestamp         datetime64[ns]\n",
       "order_approved_at                        object\n",
       "order_delivered_carrier_date             object\n",
       "order_delivered_customer_date            object\n",
       "order_estimated_delivery_date            object\n",
       "order_item_id                           float64\n",
       "product_id                               object\n",
       "seller_id                                object\n",
       "shipping_limit_date                      object\n",
       "price                                   float64\n",
       "freight_value                           float64\n",
       "dtype: object"
      ]
     },
     "execution_count": 620,
     "metadata": {},
     "output_type": "execute_result"
    }
   ],
   "source": [
    "full_df_purchase.dtypes"
   ]
  },
  {
   "cell_type": "code",
   "execution_count": 621,
   "metadata": {},
   "outputs": [
    {
     "data": {
      "text/plain": [
       "Timestamp('2018-09-03 09:06:57')"
      ]
     },
     "execution_count": 621,
     "metadata": {},
     "output_type": "execute_result"
    }
   ],
   "source": [
    "full_df_purchase.order_purchase_timestamp.max()"
   ]
  },
  {
   "cell_type": "markdown",
   "metadata": {},
   "source": [
    "##### Считаем кол-во покупок"
   ]
  },
  {
   "cell_type": "code",
   "execution_count": 622,
   "metadata": {},
   "outputs": [
    {
     "data": {
      "text/html": [
       "<div>\n",
       "<style scoped>\n",
       "    .dataframe tbody tr th:only-of-type {\n",
       "        vertical-align: middle;\n",
       "    }\n",
       "\n",
       "    .dataframe tbody tr th {\n",
       "        vertical-align: top;\n",
       "    }\n",
       "\n",
       "    .dataframe thead th {\n",
       "        text-align: right;\n",
       "    }\n",
       "</style>\n",
       "<table border=\"1\" class=\"dataframe\">\n",
       "  <thead>\n",
       "    <tr style=\"text-align: right;\">\n",
       "      <th></th>\n",
       "      <th>order_id</th>\n",
       "      <th>order_purchase_timestamp</th>\n",
       "      <th>customer_unique_id</th>\n",
       "      <th>price</th>\n",
       "    </tr>\n",
       "  </thead>\n",
       "  <tbody>\n",
       "    <tr>\n",
       "      <th>0</th>\n",
       "      <td>00010242fe8c5a6d1ba2dd792cb16214</td>\n",
       "      <td>2017-09-13 08:59:02</td>\n",
       "      <td>871766c5855e863f6eccc05f988b23cb</td>\n",
       "      <td>58.90</td>\n",
       "    </tr>\n",
       "    <tr>\n",
       "      <th>1</th>\n",
       "      <td>00018f77f2f0320c557190d7a144bdd3</td>\n",
       "      <td>2017-04-26 10:53:06</td>\n",
       "      <td>eb28e67c4c0b83846050ddfb8a35d051</td>\n",
       "      <td>239.90</td>\n",
       "    </tr>\n",
       "    <tr>\n",
       "      <th>2</th>\n",
       "      <td>000229ec398224ef6ca0657da4fc703e</td>\n",
       "      <td>2018-01-14 14:33:31</td>\n",
       "      <td>3818d81c6709e39d06b2738a8d3a2474</td>\n",
       "      <td>199.00</td>\n",
       "    </tr>\n",
       "    <tr>\n",
       "      <th>3</th>\n",
       "      <td>00024acbcdf0a6daa1e931b038114c75</td>\n",
       "      <td>2018-08-08 10:00:35</td>\n",
       "      <td>af861d436cfc08b2c2ddefd0ba074622</td>\n",
       "      <td>12.99</td>\n",
       "    </tr>\n",
       "    <tr>\n",
       "      <th>4</th>\n",
       "      <td>00042b26cf59d7ce69dfabb4e55b4fd9</td>\n",
       "      <td>2017-02-04 13:57:51</td>\n",
       "      <td>64b576fb70d441e8f1b2d7d446e483c5</td>\n",
       "      <td>199.90</td>\n",
       "    </tr>\n",
       "    <tr>\n",
       "      <th>...</th>\n",
       "      <td>...</td>\n",
       "      <td>...</td>\n",
       "      <td>...</td>\n",
       "      <td>...</td>\n",
       "    </tr>\n",
       "    <tr>\n",
       "      <th>97869</th>\n",
       "      <td>fffc94f6ce00a00581880bf54a75a037</td>\n",
       "      <td>2018-04-23 13:57:06</td>\n",
       "      <td>0c9aeda10a71f369396d0c04dce13a64</td>\n",
       "      <td>299.99</td>\n",
       "    </tr>\n",
       "    <tr>\n",
       "      <th>97870</th>\n",
       "      <td>fffcd46ef2263f404302a634eb57f7eb</td>\n",
       "      <td>2018-07-14 10:26:46</td>\n",
       "      <td>0da9fe112eae0c74d3ba1fe16de0988b</td>\n",
       "      <td>350.00</td>\n",
       "    </tr>\n",
       "    <tr>\n",
       "      <th>97871</th>\n",
       "      <td>fffce4705a9662cd70adb13d4a31832d</td>\n",
       "      <td>2017-10-23 17:07:56</td>\n",
       "      <td>cd79b407828f02fdbba457111c38e4c4</td>\n",
       "      <td>99.90</td>\n",
       "    </tr>\n",
       "    <tr>\n",
       "      <th>97872</th>\n",
       "      <td>fffe18544ffabc95dfada21779c9644f</td>\n",
       "      <td>2017-08-14 23:02:59</td>\n",
       "      <td>eb803377c9315b564bdedad672039306</td>\n",
       "      <td>55.99</td>\n",
       "    </tr>\n",
       "    <tr>\n",
       "      <th>97873</th>\n",
       "      <td>fffe41c64501cc87c801fd61db3f6244</td>\n",
       "      <td>2018-06-09 17:00:18</td>\n",
       "      <td>cd76a00d8e3ca5e6ab9ed9ecb6667ac4</td>\n",
       "      <td>43.00</td>\n",
       "    </tr>\n",
       "  </tbody>\n",
       "</table>\n",
       "<p>97874 rows × 4 columns</p>\n",
       "</div>"
      ],
      "text/plain": [
       "                               order_id order_purchase_timestamp  \\\n",
       "0      00010242fe8c5a6d1ba2dd792cb16214      2017-09-13 08:59:02   \n",
       "1      00018f77f2f0320c557190d7a144bdd3      2017-04-26 10:53:06   \n",
       "2      000229ec398224ef6ca0657da4fc703e      2018-01-14 14:33:31   \n",
       "3      00024acbcdf0a6daa1e931b038114c75      2018-08-08 10:00:35   \n",
       "4      00042b26cf59d7ce69dfabb4e55b4fd9      2017-02-04 13:57:51   \n",
       "...                                 ...                      ...   \n",
       "97869  fffc94f6ce00a00581880bf54a75a037      2018-04-23 13:57:06   \n",
       "97870  fffcd46ef2263f404302a634eb57f7eb      2018-07-14 10:26:46   \n",
       "97871  fffce4705a9662cd70adb13d4a31832d      2017-10-23 17:07:56   \n",
       "97872  fffe18544ffabc95dfada21779c9644f      2017-08-14 23:02:59   \n",
       "97873  fffe41c64501cc87c801fd61db3f6244      2018-06-09 17:00:18   \n",
       "\n",
       "                     customer_unique_id   price  \n",
       "0      871766c5855e863f6eccc05f988b23cb   58.90  \n",
       "1      eb28e67c4c0b83846050ddfb8a35d051  239.90  \n",
       "2      3818d81c6709e39d06b2738a8d3a2474  199.00  \n",
       "3      af861d436cfc08b2c2ddefd0ba074622   12.99  \n",
       "4      64b576fb70d441e8f1b2d7d446e483c5  199.90  \n",
       "...                                 ...     ...  \n",
       "97869  0c9aeda10a71f369396d0c04dce13a64  299.99  \n",
       "97870  0da9fe112eae0c74d3ba1fe16de0988b  350.00  \n",
       "97871  cd79b407828f02fdbba457111c38e4c4   99.90  \n",
       "97872  eb803377c9315b564bdedad672039306   55.99  \n",
       "97873  cd76a00d8e3ca5e6ab9ed9ecb6667ac4   43.00  \n",
       "\n",
       "[97874 rows x 4 columns]"
      ]
     },
     "execution_count": 622,
     "metadata": {},
     "output_type": "execute_result"
    }
   ],
   "source": [
    "purchases = full_df_purchase.groupby(['order_id', 'order_purchase_timestamp', 'customer_unique_id'], \\\n",
    "                                    as_index=False).agg({'price': 'sum'})\n",
    "purchases"
   ]
  },
  {
   "cell_type": "markdown",
   "metadata": {},
   "source": [
    "##### Создаем колонку с данными о прошедших днях от последней покупки"
   ]
  },
  {
   "cell_type": "code",
   "execution_count": 623,
   "metadata": {},
   "outputs": [],
   "source": [
    "purchases['last_purchase'] = purchases.order_purchase_timestamp.apply(lambda x: (last_order_date - x).days)"
   ]
  },
  {
   "cell_type": "code",
   "execution_count": 624,
   "metadata": {},
   "outputs": [
    {
     "data": {
      "text/html": [
       "<div>\n",
       "<style scoped>\n",
       "    .dataframe tbody tr th:only-of-type {\n",
       "        vertical-align: middle;\n",
       "    }\n",
       "\n",
       "    .dataframe tbody tr th {\n",
       "        vertical-align: top;\n",
       "    }\n",
       "\n",
       "    .dataframe thead th {\n",
       "        text-align: right;\n",
       "    }\n",
       "</style>\n",
       "<table border=\"1\" class=\"dataframe\">\n",
       "  <thead>\n",
       "    <tr style=\"text-align: right;\">\n",
       "      <th></th>\n",
       "      <th>order_id</th>\n",
       "      <th>order_purchase_timestamp</th>\n",
       "      <th>customer_unique_id</th>\n",
       "      <th>price</th>\n",
       "      <th>last_purchase</th>\n",
       "    </tr>\n",
       "  </thead>\n",
       "  <tbody>\n",
       "    <tr>\n",
       "      <th>0</th>\n",
       "      <td>00010242fe8c5a6d1ba2dd792cb16214</td>\n",
       "      <td>2017-09-13 08:59:02</td>\n",
       "      <td>871766c5855e863f6eccc05f988b23cb</td>\n",
       "      <td>58.9</td>\n",
       "      <td>355</td>\n",
       "    </tr>\n",
       "    <tr>\n",
       "      <th>1</th>\n",
       "      <td>00018f77f2f0320c557190d7a144bdd3</td>\n",
       "      <td>2017-04-26 10:53:06</td>\n",
       "      <td>eb28e67c4c0b83846050ddfb8a35d051</td>\n",
       "      <td>239.9</td>\n",
       "      <td>494</td>\n",
       "    </tr>\n",
       "    <tr>\n",
       "      <th>2</th>\n",
       "      <td>000229ec398224ef6ca0657da4fc703e</td>\n",
       "      <td>2018-01-14 14:33:31</td>\n",
       "      <td>3818d81c6709e39d06b2738a8d3a2474</td>\n",
       "      <td>199.0</td>\n",
       "      <td>231</td>\n",
       "    </tr>\n",
       "  </tbody>\n",
       "</table>\n",
       "</div>"
      ],
      "text/plain": [
       "                           order_id order_purchase_timestamp  \\\n",
       "0  00010242fe8c5a6d1ba2dd792cb16214      2017-09-13 08:59:02   \n",
       "1  00018f77f2f0320c557190d7a144bdd3      2017-04-26 10:53:06   \n",
       "2  000229ec398224ef6ca0657da4fc703e      2018-01-14 14:33:31   \n",
       "\n",
       "                 customer_unique_id  price  last_purchase  \n",
       "0  871766c5855e863f6eccc05f988b23cb   58.9            355  \n",
       "1  eb28e67c4c0b83846050ddfb8a35d051  239.9            494  \n",
       "2  3818d81c6709e39d06b2738a8d3a2474  199.0            231  "
      ]
     },
     "execution_count": 624,
     "metadata": {},
     "output_type": "execute_result"
    }
   ],
   "source": [
    "purchases.head(3)"
   ]
  },
  {
   "cell_type": "markdown",
   "metadata": {},
   "source": [
    "##### Приступаем к созданию RFM"
   ]
  },
  {
   "cell_type": "code",
   "execution_count": 625,
   "metadata": {},
   "outputs": [],
   "source": [
    "group = {'last_purchase': lambda x: x.min(), 'order_id': 'count', 'price': 'sum'}"
   ]
  },
  {
   "cell_type": "code",
   "execution_count": 626,
   "metadata": {},
   "outputs": [],
   "source": [
    "RFM = purchases.groupby('customer_unique_id') \\\n",
    "               .agg(group) \\\n",
    "               .rename(columns={'last_purchase': 'Recency','order_id': 'Frequency', 'price': 'Monetary'}) \\\n",
    "               .reset_index()"
   ]
  },
  {
   "cell_type": "code",
   "execution_count": 627,
   "metadata": {},
   "outputs": [
    {
     "data": {
      "text/html": [
       "<div>\n",
       "<style scoped>\n",
       "    .dataframe tbody tr th:only-of-type {\n",
       "        vertical-align: middle;\n",
       "    }\n",
       "\n",
       "    .dataframe tbody tr th {\n",
       "        vertical-align: top;\n",
       "    }\n",
       "\n",
       "    .dataframe thead th {\n",
       "        text-align: right;\n",
       "    }\n",
       "</style>\n",
       "<table border=\"1\" class=\"dataframe\">\n",
       "  <thead>\n",
       "    <tr style=\"text-align: right;\">\n",
       "      <th></th>\n",
       "      <th>customer_unique_id</th>\n",
       "      <th>Recency</th>\n",
       "      <th>Frequency</th>\n",
       "      <th>Monetary</th>\n",
       "    </tr>\n",
       "  </thead>\n",
       "  <tbody>\n",
       "    <tr>\n",
       "      <th>0</th>\n",
       "      <td>0000366f3b9a7992bf8c76cfdf3221e2</td>\n",
       "      <td>115</td>\n",
       "      <td>1</td>\n",
       "      <td>129.90</td>\n",
       "    </tr>\n",
       "    <tr>\n",
       "      <th>1</th>\n",
       "      <td>0000b849f77a49e4a4ce2b2a4ca5be3f</td>\n",
       "      <td>118</td>\n",
       "      <td>1</td>\n",
       "      <td>18.90</td>\n",
       "    </tr>\n",
       "    <tr>\n",
       "      <th>2</th>\n",
       "      <td>0000f46a3911fa3c0805444483337064</td>\n",
       "      <td>541</td>\n",
       "      <td>1</td>\n",
       "      <td>69.00</td>\n",
       "    </tr>\n",
       "    <tr>\n",
       "      <th>3</th>\n",
       "      <td>0000f6ccb0745a6a4b88665a16c9f078</td>\n",
       "      <td>325</td>\n",
       "      <td>1</td>\n",
       "      <td>25.99</td>\n",
       "    </tr>\n",
       "    <tr>\n",
       "      <th>4</th>\n",
       "      <td>0004aac84e0df4da2b147fca70cf8255</td>\n",
       "      <td>292</td>\n",
       "      <td>1</td>\n",
       "      <td>180.00</td>\n",
       "    </tr>\n",
       "    <tr>\n",
       "      <th>...</th>\n",
       "      <td>...</td>\n",
       "      <td>...</td>\n",
       "      <td>...</td>\n",
       "      <td>...</td>\n",
       "    </tr>\n",
       "    <tr>\n",
       "      <th>94670</th>\n",
       "      <td>fffcf5a5ff07b0908bd4e2dbc735a684</td>\n",
       "      <td>451</td>\n",
       "      <td>1</td>\n",
       "      <td>1570.00</td>\n",
       "    </tr>\n",
       "    <tr>\n",
       "      <th>94671</th>\n",
       "      <td>fffea47cd6d3cc0a88bd621562a9d061</td>\n",
       "      <td>266</td>\n",
       "      <td>1</td>\n",
       "      <td>64.89</td>\n",
       "    </tr>\n",
       "    <tr>\n",
       "      <th>94672</th>\n",
       "      <td>ffff371b4d645b6ecea244b27531430a</td>\n",
       "      <td>572</td>\n",
       "      <td>1</td>\n",
       "      <td>89.90</td>\n",
       "    </tr>\n",
       "    <tr>\n",
       "      <th>94673</th>\n",
       "      <td>ffff5962728ec6157033ef9805bacc48</td>\n",
       "      <td>123</td>\n",
       "      <td>1</td>\n",
       "      <td>115.00</td>\n",
       "    </tr>\n",
       "    <tr>\n",
       "      <th>94674</th>\n",
       "      <td>ffffd2657e2aad2907e67c3e9daecbeb</td>\n",
       "      <td>488</td>\n",
       "      <td>1</td>\n",
       "      <td>56.99</td>\n",
       "    </tr>\n",
       "  </tbody>\n",
       "</table>\n",
       "<p>94675 rows × 4 columns</p>\n",
       "</div>"
      ],
      "text/plain": [
       "                     customer_unique_id  Recency  Frequency  Monetary\n",
       "0      0000366f3b9a7992bf8c76cfdf3221e2      115          1    129.90\n",
       "1      0000b849f77a49e4a4ce2b2a4ca5be3f      118          1     18.90\n",
       "2      0000f46a3911fa3c0805444483337064      541          1     69.00\n",
       "3      0000f6ccb0745a6a4b88665a16c9f078      325          1     25.99\n",
       "4      0004aac84e0df4da2b147fca70cf8255      292          1    180.00\n",
       "...                                 ...      ...        ...       ...\n",
       "94670  fffcf5a5ff07b0908bd4e2dbc735a684      451          1   1570.00\n",
       "94671  fffea47cd6d3cc0a88bd621562a9d061      266          1     64.89\n",
       "94672  ffff371b4d645b6ecea244b27531430a      572          1     89.90\n",
       "94673  ffff5962728ec6157033ef9805bacc48      123          1    115.00\n",
       "94674  ffffd2657e2aad2907e67c3e9daecbeb      488          1     56.99\n",
       "\n",
       "[94675 rows x 4 columns]"
      ]
     },
     "execution_count": 627,
     "metadata": {},
     "output_type": "execute_result"
    }
   ],
   "source": [
    "RFM"
   ]
  },
  {
   "cell_type": "markdown",
   "metadata": {},
   "source": [
    "##### Визуализируем и посмотрим на распределение Recency, Frequency , Monetary"
   ]
  },
  {
   "cell_type": "code",
   "execution_count": 628,
   "metadata": {},
   "outputs": [
    {
     "data": {
      "image/png": "[encoded data removed]",
      "text/plain": [
       "<Figure size 1224x504 with 1 Axes>"
      ]
     },
     "metadata": {},
     "output_type": "display_data"
    }
   ],
   "source": [
    "sns.set(style=\"darkgrid\", rc={\"figure.figsize\": (17, 7)})\n",
    "ax = sns.histplot(RFM.Recency)\n",
    "ax.set_xticks(range(0, 800, 20))\n",
    "sns.despine()"
   ]
  },
  {
   "cell_type": "code",
   "execution_count": 629,
   "metadata": {},
   "outputs": [
    {
     "data": {
      "text/plain": [
       "728"
      ]
     },
     "execution_count": 629,
     "metadata": {},
     "output_type": "execute_result"
    }
   ],
   "source": [
    "RFM.Recency.max()"
   ]
  },
  {
   "cell_type": "code",
   "execution_count": 630,
   "metadata": {},
   "outputs": [
    {
     "data": {
      "text/plain": [
       "count    94675.000000\n",
       "mean       242.207309\n",
       "std        152.802404\n",
       "min          0.000000\n",
       "25%        118.000000\n",
       "50%        223.000000\n",
       "75%        351.000000\n",
       "max        728.000000\n",
       "Name: Recency, dtype: float64"
      ]
     },
     "execution_count": 630,
     "metadata": {},
     "output_type": "execute_result"
    }
   ],
   "source": [
    "RFM.Recency.describe()"
   ]
  },
  {
   "cell_type": "code",
   "execution_count": 631,
   "metadata": {},
   "outputs": [
    {
     "data": {
      "image/png": "[encoded data removed]",
      "text/plain": [
       "<Figure size 720x504 with 1 Axes>"
      ]
     },
     "metadata": {},
     "output_type": "display_data"
    }
   ],
   "source": [
    "sns.set(style=\"darkgrid\", rc={\"figure.figsize\": (10, 7)})\n",
    "ax = sns.histplot(RFM.Frequency)\n",
    "sns.despine()"
   ]
  },
  {
   "cell_type": "code",
   "execution_count": 632,
   "metadata": {},
   "outputs": [
    {
     "data": {
      "text/plain": [
       "16"
      ]
     },
     "execution_count": 632,
     "metadata": {},
     "output_type": "execute_result"
    }
   ],
   "source": [
    "RFM.Frequency.max()"
   ]
  },
  {
   "cell_type": "code",
   "execution_count": 633,
   "metadata": {},
   "outputs": [
    {
     "data": {
      "text/plain": [
       "count    94675.000000\n",
       "mean         1.033789\n",
       "std          0.210698\n",
       "min          1.000000\n",
       "25%          1.000000\n",
       "50%          1.000000\n",
       "75%          1.000000\n",
       "max         16.000000\n",
       "Name: Frequency, dtype: float64"
      ]
     },
     "execution_count": 633,
     "metadata": {},
     "output_type": "execute_result"
    }
   ],
   "source": [
    "RFM.Frequency.describe()"
   ]
  },
  {
   "cell_type": "code",
   "execution_count": 634,
   "metadata": {},
   "outputs": [
    {
     "data": {
      "image/png": "[encoded data removed]",
      "text/plain": [
       "<Figure size 1224x504 with 1 Axes>"
      ]
     },
     "metadata": {},
     "output_type": "display_data"
    }
   ],
   "source": [
    "sns.set(style=\"darkgrid\", rc={\"figure.figsize\": (17, 7)})\n",
    "ax = sns.histplot(RFM.Monetary.loc[RFM.Monetary <= 750])\n",
    "sns.despine()"
   ]
  },
  {
   "cell_type": "code",
   "execution_count": 635,
   "metadata": {},
   "outputs": [
    {
     "data": {
      "text/plain": [
       "13440.0"
      ]
     },
     "execution_count": 635,
     "metadata": {},
     "output_type": "execute_result"
    }
   ],
   "source": [
    "RFM.Monetary.max()"
   ]
  },
  {
   "cell_type": "code",
   "execution_count": 636,
   "metadata": {},
   "outputs": [
    {
     "data": {
      "text/plain": [
       "count    94675.000000\n",
       "mean       141.866427\n",
       "std        215.721800\n",
       "min          0.000000\n",
       "25%         47.800000\n",
       "50%         89.800000\n",
       "75%        154.910000\n",
       "max      13440.000000\n",
       "Name: Monetary, dtype: float64"
      ]
     },
     "execution_count": 636,
     "metadata": {},
     "output_type": "execute_result"
    }
   ],
   "source": [
    "RFM.Monetary.describe()"
   ]
  },
  {
   "cell_type": "markdown",
   "metadata": {},
   "source": [
    "### На основе полученной информации, распределяем значения RFM следующим образом:\n",
    "\n",
    "##### Recency\n",
    "##### 1 - заказывал не давно (0 - 189)\n",
    "##### 2 - клиент в \"простое\" (190 - 359)\n",
    "##### 3 - заказывал давно (360 - 727)\n",
    "\n",
    "##### Frequency\n",
    "##### 3 - покупал  мало (0-1)\n",
    "##### 2 - покупал средне (1-2)\n",
    "##### 1 - покупал много (2-16)\n",
    "\n",
    "##### Monetary\n",
    "##### 3 - чек  маленький (0-90)\n",
    "##### 2 - чек средний (90-350)\n",
    "##### 1 - чек большой (350-13441)\n"
   ]
  },
  {
   "cell_type": "code",
   "execution_count": 637,
   "metadata": {},
   "outputs": [],
   "source": [
    "RFM['range_R'] = pd.cut(RFM.Recency, [-1, 190, 360, 728], labels=['1', '2', '3']).astype(str)\n",
    "RFM['range_F'] = pd.cut(RFM.Frequency, [-1, 1, 2, 16], labels=['3', '2', '1']).astype(str)\n",
    "RFM['range_M'] = pd.cut(RFM.Monetary, [-1, 90, 350, 13441], labels=['3', '2', '1']).astype(str)"
   ]
  },
  {
   "cell_type": "markdown",
   "metadata": {},
   "source": [
    "##### Объединяем подгруппы в одну и получаем требуемый результат, в котором видим, что ТОП-5 пользователей относятся к следующим группам RFM:\n",
    "##### 1. 133\n",
    "\n",
    "##### 2. 233\n",
    "\n",
    "##### 3. 132\n",
    "\n",
    "##### 4. 232\n",
    "\n",
    "##### 5. 333\n",
    "##### Из чего можем сделать вывод, что  большинство пользователей покупает мало товаров и на небольшую сумму, а большинство клиентов чаще покупает в диапозоне от 0 до 359 дней."
   ]
  },
  {
   "cell_type": "markdown",
   "metadata": {},
   "source": [
    "#####  Для наглядности распредления RFM сделаем ТОП-15 групп RFM по кол-ву пользователей и визуализируемна барплоте."
   ]
  },
  {
   "cell_type": "code",
   "execution_count": 638,
   "metadata": {},
   "outputs": [],
   "source": [
    "RFM['RFM_TOTAL'] = RFM['range_R'] + RFM['range_F'] + RFM['range_M']"
   ]
  },
  {
   "cell_type": "code",
   "execution_count": 639,
   "metadata": {},
   "outputs": [
    {
     "data": {
      "text/html": [
       "<div>\n",
       "<style scoped>\n",
       "    .dataframe tbody tr th:only-of-type {\n",
       "        vertical-align: middle;\n",
       "    }\n",
       "\n",
       "    .dataframe tbody tr th {\n",
       "        vertical-align: top;\n",
       "    }\n",
       "\n",
       "    .dataframe thead th {\n",
       "        text-align: right;\n",
       "    }\n",
       "</style>\n",
       "<table border=\"1\" class=\"dataframe\">\n",
       "  <thead>\n",
       "    <tr style=\"text-align: right;\">\n",
       "      <th></th>\n",
       "      <th>RFM_TOTAL</th>\n",
       "      <th>customer_unique_id</th>\n",
       "      <th>Monetary</th>\n",
       "    </tr>\n",
       "  </thead>\n",
       "  <tbody>\n",
       "    <tr>\n",
       "      <th>0</th>\n",
       "      <td>133</td>\n",
       "      <td>20118</td>\n",
       "      <td>973385.68</td>\n",
       "    </tr>\n",
       "    <tr>\n",
       "      <th>1</th>\n",
       "      <td>233</td>\n",
       "      <td>16729</td>\n",
       "      <td>824220.78</td>\n",
       "    </tr>\n",
       "    <tr>\n",
       "      <th>2</th>\n",
       "      <td>132</td>\n",
       "      <td>16197</td>\n",
       "      <td>2633589.19</td>\n",
       "    </tr>\n",
       "    <tr>\n",
       "      <th>3</th>\n",
       "      <td>232</td>\n",
       "      <td>12556</td>\n",
       "      <td>2074994.36</td>\n",
       "    </tr>\n",
       "    <tr>\n",
       "      <th>4</th>\n",
       "      <td>333</td>\n",
       "      <td>11895</td>\n",
       "      <td>581213.80</td>\n",
       "    </tr>\n",
       "    <tr>\n",
       "      <th>5</th>\n",
       "      <td>332</td>\n",
       "      <td>8470</td>\n",
       "      <td>1410992.08</td>\n",
       "    </tr>\n",
       "    <tr>\n",
       "      <th>6</th>\n",
       "      <td>131</td>\n",
       "      <td>2543</td>\n",
       "      <td>1844999.78</td>\n",
       "    </tr>\n",
       "    <tr>\n",
       "      <th>7</th>\n",
       "      <td>231</td>\n",
       "      <td>1881</td>\n",
       "      <td>1296861.49</td>\n",
       "    </tr>\n",
       "    <tr>\n",
       "      <th>8</th>\n",
       "      <td>331</td>\n",
       "      <td>1415</td>\n",
       "      <td>1047845.99</td>\n",
       "    </tr>\n",
       "    <tr>\n",
       "      <th>9</th>\n",
       "      <td>122</td>\n",
       "      <td>767</td>\n",
       "      <td>148107.01</td>\n",
       "    </tr>\n",
       "    <tr>\n",
       "      <th>10</th>\n",
       "      <td>222</td>\n",
       "      <td>604</td>\n",
       "      <td>113868.21</td>\n",
       "    </tr>\n",
       "    <tr>\n",
       "      <th>11</th>\n",
       "      <td>322</td>\n",
       "      <td>317</td>\n",
       "      <td>58492.51</td>\n",
       "    </tr>\n",
       "    <tr>\n",
       "      <th>12</th>\n",
       "      <td>121</td>\n",
       "      <td>213</td>\n",
       "      <td>131606.17</td>\n",
       "    </tr>\n",
       "    <tr>\n",
       "      <th>13</th>\n",
       "      <td>123</td>\n",
       "      <td>206</td>\n",
       "      <td>12892.57</td>\n",
       "    </tr>\n",
       "    <tr>\n",
       "      <th>14</th>\n",
       "      <td>221</td>\n",
       "      <td>168</td>\n",
       "      <td>101884.85</td>\n",
       "    </tr>\n",
       "  </tbody>\n",
       "</table>\n",
       "</div>"
      ],
      "text/plain": [
       "   RFM_TOTAL  customer_unique_id    Monetary\n",
       "0        133               20118   973385.68\n",
       "1        233               16729   824220.78\n",
       "2        132               16197  2633589.19\n",
       "3        232               12556  2074994.36\n",
       "4        333               11895   581213.80\n",
       "5        332                8470  1410992.08\n",
       "6        131                2543  1844999.78\n",
       "7        231                1881  1296861.49\n",
       "8        331                1415  1047845.99\n",
       "9        122                 767   148107.01\n",
       "10       222                 604   113868.21\n",
       "11       322                 317    58492.51\n",
       "12       121                 213   131606.17\n",
       "13       123                 206    12892.57\n",
       "14       221                 168   101884.85"
      ]
     },
     "execution_count": 639,
     "metadata": {},
     "output_type": "execute_result"
    }
   ],
   "source": [
    "RFM_stat = RFM.groupby('RFM_TOTAL') \\\n",
    "              .agg({'customer_unique_id' : 'count', 'Monetary' : 'sum'}) \\\n",
    "              .sort_values('customer_unique_id', ascending=False) \\\n",
    "              .reset_index()\n",
    "RFM_stat.head(15)"
   ]
  },
  {
   "cell_type": "code",
   "execution_count": 640,
   "metadata": {},
   "outputs": [
    {
     "data": {
      "text/plain": [
       "<matplotlib.axes._subplots.AxesSubplot at 0x7eff2a638dd8>"
      ]
     },
     "execution_count": 640,
     "metadata": {},
     "output_type": "execute_result"
    },
    {
     "data": {
      "image/png": "[encoded data removed]",
      "text/plain": [
       "<Figure size 1224x504 with 1 Axes>"
      ]
     },
     "metadata": {},
     "output_type": "display_data"
    }
   ],
   "source": [
    "sns.barplot(x='RFM_TOTAL', y='customer_unique_id', data=RFM_stat)"
   ]
  }
 ],
 "metadata": {
  "kernelspec": {
   "display_name": "Python 3",
   "language": "python",
   "name": "python3"
  },
  "language_info": {
   "codemirror_mode": {
    "name": "ipython",
    "version": 3
   },
   "file_extension": ".py",
   "mimetype": "text/x-python",
   "name": "python",
   "nbconvert_exporter": "python",
   "pygments_lexer": "ipython3",
   "version": "3.7.3"
  }
 },
 "nbformat": 4,
 "nbformat_minor": 4
}
